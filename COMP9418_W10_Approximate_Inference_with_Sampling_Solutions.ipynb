{
 "cells": [
  {
   "cell_type": "markdown",
   "metadata": {},
   "source": [
    "# Approximate Inference with Sampling\n",
    "\n",
    "**COMP9418-19T3, W10 Tutorial**\n",
    "\n",
    "- Instructor: Gustavo Batista\n",
    "- School of Computer Science and Engineering, UNSW Sydney\n",
    "- Last Update 12th November at 18:00, 2020"
   ]
  },
  {
   "cell_type": "markdown",
   "metadata": {},
   "source": [
    "In this week's tutorial, we will implement the four sampling algorithms discussed in the lecture. We will also investigate the performance of these algorithms in terms of running time and accuracy for answering marginal and conditional probabilistic queries."
   ]
  },
  {
   "cell_type": "markdown",
   "metadata": {},
   "source": [
    "## Technical prerequisites\n",
    "\n",
    "You will need certain packages installed to run this notebook.\n",
    "\n",
    "If you are using ``conda``'s default [full installation](https://conda.io/docs/install/full.html), these requirements should all be satisfied already.\n",
    "\n",
    "If you are using ``virtualenv`` or other native package management, you may need to run this command:\n",
    "\n",
    "```python\n",
    "pip3 install matplotlib\n",
    "```\n",
    "\n",
    "To render a visualization of some graphical models, you also need to install Graphviz [download page](http://www.graphviz.org/download). We have already used this library in Tutorial 1, thus, you should have it installed.\n",
    "\n",
    "Once we have done all that, we import some useful modules for later use."
   ]
  },
  {
   "cell_type": "code",
   "execution_count": 1,
   "metadata": {},
   "outputs": [],
   "source": [
    "# visualise plots\n",
    "import matplotlib.pyplot as plt\n",
    "# random number generator library\n",
    "import random\n",
    "# access to math.inf\n",
    "import math\n",
    "# ndarrays\n",
    "import numpy as np"
   ]
  },
  {
   "cell_type": "code",
   "execution_count": 2,
   "metadata": {},
   "outputs": [],
   "source": [
    "from DiscreteFactors import Factor\n",
    "from Graph import Graph\n",
    "from BayesNet import BayesNet"
   ]
  },
  {
   "cell_type": "markdown",
   "metadata": {},
   "source": [
    "# Sample a Bayesian network variable\n",
    "\n",
    "First, we will develop a simple function to sample one variable $X$ according to $P(X|\\textbf{u})$, with $\\textbf{u}$ being a complete assignment for the variables $\\textbf{U}$ that are the parents of $X$.\n",
    "\n",
    "## Exercise\n",
    "\n",
    "Let's extend the `Factor` class by implementing the function `sample_variable` that samples a variable $X$ according to $P(X|\\textbf{u})$. The function will assume that the factor is appropriately normalized with $X$ as the child variable."
   ]
  },
  {
   "cell_type": "code",
   "execution_count": 3,
   "metadata": {},
   "outputs": [],
   "source": [
    "class Factor(Factor):\n",
    "    def sample_variable(self, var, **evi):\n",
    "        '''\n",
    "        This function assumes that all domain variables are in `evi` except for `var`.\n",
    "        The factor must also be appropriately normalized.\n",
    "        `var`: variable to be sampled according to P(var|parents(var))\n",
    "        `evi`: dict of assignments of parent variables\n",
    "        return: value sampled according to P(var|parents(var))\n",
    "        '''\n",
    "        # Sample a value in the interval [0,1) using random()\n",
    "        r = random.random()\n",
    "        # s has the accumulative probabilities of P(var|parents(var))\n",
    "        s = 0\n",
    "        # select the appropriate row from the table\n",
    "        indicies = tuple(slice(None) if v==var else self.outcomeSpace[v].index(evi[v]) for v in self.domain)\n",
    "        # t will be the normalized vector of probs we are sampling from\n",
    "        t = self.table[indicies]\n",
    "        for i,outcome in enumerate(self.outcomeSpace[var]):\n",
    "            s += ... # TODO\n",
    "            # If we have achived a s value higher than s so v is the sampled value. \n",
    "            if r < s:\n",
    "                return outcome"
   ]
  },
  {
   "cell_type": "code",
   "execution_count": 4,
   "metadata": {},
   "outputs": [],
   "source": [
    "# Answer\n",
    "\n",
    "class Factor(Factor):\n",
    "    def sample_variable(self, var, **evi):\n",
    "        '''\n",
    "        This function assumes that all domain variables are in `evi` except for `var`.\n",
    "        The factor must also be appropriately normalized.\n",
    "        `var`: variable to be sampled according to P(var|parents(var))\n",
    "        `evi`: dict of assignments of parent variables\n",
    "        return: value sampled according to P(var|parents(var))\n",
    "        '''\n",
    "        # Sample a value in the interval [0,1) using random()\n",
    "        r = random.random()\n",
    "        # s has the accumulative probabilities of P(var|parents(var))\n",
    "        s = 0\n",
    "        # select the appropriate row from the table\n",
    "        indicies = tuple(slice(None) if v==var else self.outcomeSpace[v].index(evi[v]) for v in self.domain)\n",
    "        t = self.table[indicies]\n",
    "        for i,outcome in enumerate(self.outcomeSpace[var]):\n",
    "            s += t[i]\n",
    "            # If we have achived a s value higher than s so v is the sampled value. \n",
    "            if r < s:\n",
    "                return outcome"
   ]
  },
  {
   "cell_type": "markdown",
   "metadata": {},
   "source": [
    "## The ICU network\n",
    "\n",
    "Once again, we will use the ICU-Alarm network as a benchmark. You should remember this Bayesian Network from Week 3 Tutorial. It is a subset of nine nodes from a [larger network](https://www.bnlearn.com/bnrepository/discrete-medium.html#alarm) of 37 nodes.\n",
    "\n",
    "The following image is a graphical representation of a subset of nine nodes we will use in this tutorial.\n",
    "\n",
    "![ICU Graph](img/ICU_graph.png \"Graph exercise\")"
   ]
  },
  {
   "cell_type": "code",
   "execution_count": 5,
   "metadata": {},
   "outputs": [
    {
     "data": {
      "image/svg+xml": [
       "<?xml version=\"1.0\" encoding=\"UTF-8\" standalone=\"no\"?>\n",
       "<!DOCTYPE svg PUBLIC \"-//W3C//DTD SVG 1.1//EN\"\n",
       " \"http://www.w3.org/Graphics/SVG/1.1/DTD/svg11.dtd\">\n",
       "<!-- Generated by graphviz version 2.43.0 (0)\n",
       " -->\n",
       "<!-- Title: %3 Pages: 1 -->\n",
       "<svg width=\"471pt\" height=\"185pt\"\n",
       " viewBox=\"0.00 0.00 470.58 184.71\" xmlns=\"http://www.w3.org/2000/svg\" xmlns:xlink=\"http://www.w3.org/1999/xlink\">\n",
       "<g id=\"graph0\" class=\"graph\" transform=\"scale(1 1) rotate(0) translate(4 180.71)\">\n",
       "<title>%3</title>\n",
       "<polygon fill=\"white\" stroke=\"transparent\" points=\"-4,4 -4,-180.71 466.58,-180.71 466.58,4 -4,4\"/>\n",
       "<!-- L -->\n",
       "<g id=\"node1\" class=\"node\">\n",
       "<title>L</title>\n",
       "<ellipse fill=\"none\" stroke=\"black\" cx=\"328.93\" cy=\"-145.26\" rx=\"27\" ry=\"18\"/>\n",
       "<text text-anchor=\"middle\" x=\"328.93\" y=\"-141.56\" font-family=\"Times,serif\" font-size=\"14.00\">L</text>\n",
       "</g>\n",
       "<!-- S -->\n",
       "<g id=\"node3\" class=\"node\">\n",
       "<title>S</title>\n",
       "<ellipse fill=\"none\" stroke=\"black\" cx=\"333.59\" cy=\"-33.02\" rx=\"27\" ry=\"18\"/>\n",
       "<text text-anchor=\"middle\" x=\"333.59\" y=\"-29.32\" font-family=\"Times,serif\" font-size=\"14.00\">S</text>\n",
       "</g>\n",
       "<!-- L&#45;&gt;S -->\n",
       "<g id=\"edge1\" class=\"edge\">\n",
       "<title>L&#45;&gt;S</title>\n",
       "<path fill=\"none\" stroke=\"black\" d=\"M329.67,-127.23C330.41,-109.5 331.55,-82.17 332.41,-61.5\"/>\n",
       "<polygon fill=\"black\" stroke=\"black\" points=\"335.91,-61.52 332.83,-51.39 328.92,-61.23 335.91,-61.52\"/>\n",
       "</g>\n",
       "<!-- V -->\n",
       "<g id=\"node4\" class=\"node\">\n",
       "<title>V</title>\n",
       "<ellipse fill=\"none\" stroke=\"black\" cx=\"370.59\" cy=\"-94.23\" rx=\"27\" ry=\"18\"/>\n",
       "<text text-anchor=\"middle\" x=\"370.59\" y=\"-90.53\" font-family=\"Times,serif\" font-size=\"14.00\">V</text>\n",
       "</g>\n",
       "<!-- L&#45;&gt;V -->\n",
       "<g id=\"edge2\" class=\"edge\">\n",
       "<title>L&#45;&gt;V</title>\n",
       "<path fill=\"none\" stroke=\"black\" d=\"M341.88,-129.39C344.75,-125.88 347.86,-122.07 350.93,-118.31\"/>\n",
       "<polygon fill=\"black\" stroke=\"black\" points=\"353.88,-120.22 357.5,-110.26 348.46,-115.79 353.88,-120.22\"/>\n",
       "</g>\n",
       "<!-- H -->\n",
       "<g id=\"node2\" class=\"node\">\n",
       "<title>H</title>\n",
       "<ellipse fill=\"none\" stroke=\"black\" cx=\"415.08\" cy=\"-18\" rx=\"27\" ry=\"18\"/>\n",
       "<text text-anchor=\"middle\" x=\"415.08\" y=\"-14.3\" font-family=\"Times,serif\" font-size=\"14.00\">H</text>\n",
       "</g>\n",
       "<!-- H&#45;&gt;S -->\n",
       "<g id=\"edge3\" class=\"edge\">\n",
       "<title>H&#45;&gt;S</title>\n",
       "<path fill=\"none\" stroke=\"black\" d=\"M388.85,-22.84C382.74,-23.96 376.13,-25.18 369.69,-26.37\"/>\n",
       "<polygon fill=\"black\" stroke=\"black\" points=\"368.97,-22.94 359.77,-28.2 370.24,-29.83 368.97,-22.94\"/>\n",
       "</g>\n",
       "<!-- H&#45;&gt;V -->\n",
       "<g id=\"edge4\" class=\"edge\">\n",
       "<title>H&#45;&gt;V</title>\n",
       "<path fill=\"none\" stroke=\"black\" d=\"M405.21,-34.92C399.45,-44.79 392.06,-57.43 385.59,-68.51\"/>\n",
       "<polygon fill=\"black\" stroke=\"black\" points=\"382.45,-66.96 380.43,-77.36 388.5,-70.48 382.45,-66.96\"/>\n",
       "</g>\n",
       "<!-- O -->\n",
       "<g id=\"node5\" class=\"node\">\n",
       "<title>O</title>\n",
       "<ellipse fill=\"none\" stroke=\"black\" cx=\"271.59\" cy=\"-66.31\" rx=\"27\" ry=\"18\"/>\n",
       "<text text-anchor=\"middle\" x=\"271.59\" y=\"-62.61\" font-family=\"Times,serif\" font-size=\"14.00\">O</text>\n",
       "</g>\n",
       "<!-- S&#45;&gt;O -->\n",
       "<g id=\"edge5\" class=\"edge\">\n",
       "<title>S&#45;&gt;O</title>\n",
       "<path fill=\"none\" stroke=\"black\" d=\"M312.25,-44.48C308.8,-46.33 305.18,-48.28 301.57,-50.22\"/>\n",
       "<polygon fill=\"black\" stroke=\"black\" points=\"299.91,-47.14 292.75,-54.95 303.22,-53.3 299.91,-47.14\"/>\n",
       "</g>\n",
       "<!-- V&#45;&gt;O -->\n",
       "<g id=\"edge7\" class=\"edge\">\n",
       "<title>V&#45;&gt;O</title>\n",
       "<path fill=\"none\" stroke=\"black\" d=\"M345.6,-87.18C333.76,-83.84 319.42,-79.8 306.52,-76.16\"/>\n",
       "<polygon fill=\"black\" stroke=\"black\" points=\"307.13,-72.7 296.56,-73.36 305.23,-79.44 307.13,-72.7\"/>\n",
       "</g>\n",
       "<!-- C -->\n",
       "<g id=\"node8\" class=\"node\">\n",
       "<title>C</title>\n",
       "<ellipse fill=\"none\" stroke=\"black\" cx=\"435.58\" cy=\"-158.71\" rx=\"27\" ry=\"18\"/>\n",
       "<text text-anchor=\"middle\" x=\"435.58\" y=\"-155.01\" font-family=\"Times,serif\" font-size=\"14.00\">C</text>\n",
       "</g>\n",
       "<!-- V&#45;&gt;C -->\n",
       "<g id=\"edge6\" class=\"edge\">\n",
       "<title>V&#45;&gt;C</title>\n",
       "<path fill=\"none\" stroke=\"black\" d=\"M385.66,-109.18C393.75,-117.2 403.88,-127.25 412.9,-136.2\"/>\n",
       "<polygon fill=\"black\" stroke=\"black\" points=\"410.58,-138.83 420.14,-143.39 415.51,-133.86 410.58,-138.83\"/>\n",
       "</g>\n",
       "<!-- B -->\n",
       "<g id=\"node9\" class=\"node\">\n",
       "<title>B</title>\n",
       "<ellipse fill=\"none\" stroke=\"black\" cx=\"189.93\" cy=\"-41.03\" rx=\"27\" ry=\"18\"/>\n",
       "<text text-anchor=\"middle\" x=\"189.93\" y=\"-37.33\" font-family=\"Times,serif\" font-size=\"14.00\">B</text>\n",
       "</g>\n",
       "<!-- O&#45;&gt;B -->\n",
       "<g id=\"edge8\" class=\"edge\">\n",
       "<title>O&#45;&gt;B</title>\n",
       "<path fill=\"none\" stroke=\"black\" d=\"M247.08,-58.73C239.96,-56.52 232.05,-54.07 224.44,-51.72\"/>\n",
       "<polygon fill=\"black\" stroke=\"black\" points=\"225.28,-48.31 214.69,-48.7 223.21,-55 225.28,-48.31\"/>\n",
       "</g>\n",
       "<!-- A -->\n",
       "<g id=\"node6\" class=\"node\">\n",
       "<title>A</title>\n",
       "<ellipse fill=\"none\" stroke=\"black\" cx=\"27\" cy=\"-37.9\" rx=\"27\" ry=\"18\"/>\n",
       "<text text-anchor=\"middle\" x=\"27\" y=\"-34.2\" font-family=\"Times,serif\" font-size=\"14.00\">A</text>\n",
       "</g>\n",
       "<!-- T -->\n",
       "<g id=\"node7\" class=\"node\">\n",
       "<title>T</title>\n",
       "<ellipse fill=\"none\" stroke=\"black\" cx=\"108.36\" cy=\"-29.17\" rx=\"27\" ry=\"18\"/>\n",
       "<text text-anchor=\"middle\" x=\"108.36\" y=\"-25.47\" font-family=\"Times,serif\" font-size=\"14.00\">T</text>\n",
       "</g>\n",
       "<!-- A&#45;&gt;T -->\n",
       "<g id=\"edge9\" class=\"edge\">\n",
       "<title>A&#45;&gt;T</title>\n",
       "<path fill=\"none\" stroke=\"black\" d=\"M54.09,-34.99C59.64,-34.39 65.57,-33.76 71.39,-33.13\"/>\n",
       "<polygon fill=\"black\" stroke=\"black\" points=\"72.09,-36.58 81.66,-32.03 71.35,-29.62 72.09,-36.58\"/>\n",
       "</g>\n",
       "<!-- T&#45;&gt;B -->\n",
       "<g id=\"edge10\" class=\"edge\">\n",
       "<title>T&#45;&gt;B</title>\n",
       "<path fill=\"none\" stroke=\"black\" d=\"M135.07,-33.05C140.9,-33.9 147.17,-34.81 153.32,-35.71\"/>\n",
       "<polygon fill=\"black\" stroke=\"black\" points=\"153.04,-39.2 163.44,-37.18 154.04,-32.28 153.04,-39.2\"/>\n",
       "</g>\n",
       "</g>\n",
       "</svg>\n"
      ],
      "text/plain": [
       "<graphviz.dot.Digraph at 0x7fca232ca6a0>"
      ]
     },
     "execution_count": 5,
     "metadata": {},
     "output_type": "execute_result"
    }
   ],
   "source": [
    "\n",
    "# define Bayes Net Graph\n",
    "graph = Graph({\n",
    "    'L': ['S', 'V'],\n",
    "    'H': ['S', 'V'],\n",
    "    'S': ['O'],\n",
    "    'V': ['C', 'O'],\n",
    "    'O': ['B'],\n",
    "    'A': ['T'],\n",
    "    'T': ['B'],\n",
    "    'C': [],\n",
    "    'B': [],\n",
    "})\n",
    "# Define outcome space of each random variable\n",
    "outcomeSpace = dict(\n",
    "    H=(0,1),\n",
    "    L=(0,1),\n",
    "    A=(0,1),\n",
    "    V=(0,1),\n",
    "    S=(0,1),\n",
    "    T=(0,1),\n",
    "    C=(0,1,2),\n",
    "    O=(0,1,2),\n",
    "    B=(0,1,2),\n",
    ")\n",
    "# Initialize Bayesian Network object\n",
    "ICU_Net = BayesNet(graph, outcomeSpace)\n",
    "\n",
    "# Add each factor one by one to the ICU_Net object\n",
    "h = Factor(('H',), outcomeSpace)\n",
    "h[0] = 0.8\n",
    "h[1] = 0.2\n",
    "ICU_Net.factors['H'] = h\n",
    "\n",
    "v = Factor(('L', 'H', 'V'), outcomeSpace)\n",
    "v[0, 0, 0] = 0.05\n",
    "v[0, 0, 1] = 0.95\n",
    "v[0, 1, 0] = 0.99\n",
    "v[0, 1, 1] = 0.01\n",
    "v[1, 0, 0] = 0.1\n",
    "v[1, 0, 1] = 0.9\n",
    "v[1, 1, 0] = 0.9\n",
    "v[1, 1, 1] = 0.1\n",
    "ICU_Net.factors['V'] = v\n",
    "\n",
    "c = Factor(('V', 'C'), outcomeSpace)\n",
    "c[0, 0] = 0.94\n",
    "c[0, 1] = 0.04\n",
    "c[0, 2] = 0.02\n",
    "c[1, 0] = 0.02\n",
    "c[1, 1] = 0.26\n",
    "c[1, 2] = 0.72\n",
    "ICU_Net.factors['C'] = c\n",
    "\n",
    "l = Factor(('L',), outcomeSpace)\n",
    "l[0] = 0.95\n",
    "l[1] = 0.05\n",
    "ICU_Net.factors['L'] = l\n",
    "\n",
    "s = Factor(('L','H','S'), outcomeSpace)\n",
    "s[0, 0, 0] = 0.04\n",
    "s[0, 0, 1] = 0.96\n",
    "s[0, 1, 0] = 0.48\n",
    "s[0, 1, 1] = 0.52\n",
    "s[1, 0, 0] = 0.95\n",
    "s[1, 0, 1] = 0.05\n",
    "s[1, 1, 0] = 0.1\n",
    "s[1, 1, 1] = 0.9\n",
    "ICU_Net.factors['S'] = s\n",
    "\n",
    "o = Factor(('S', 'V', 'O'), outcomeSpace)\n",
    "o[0, 0, 0] = 0.97\n",
    "o[0, 0, 1] = 0.01\n",
    "o[0, 0, 2] = 0.02\n",
    "o[0, 1, 0] = 0.78\n",
    "o[0, 1, 1] = 0.19\n",
    "o[0, 1, 2] = 0.03\n",
    "o[1, 0, 0] = 0.22\n",
    "o[1, 0, 1] = 0.76\n",
    "o[1, 0, 2] = 0.02\n",
    "o[1, 1, 0] = 0.01\n",
    "o[1, 1, 1] = 0.01\n",
    "o[1, 1, 2] = 0.98  \n",
    "ICU_Net.factors['O'] = o\n",
    "\n",
    "t = Factor(('A','T'), outcomeSpace)\n",
    "t[0, 0] = 0.30\n",
    "t[0, 1] = 0.70\n",
    "t[1, 0] = 0.9\n",
    "t[1, 1] = 0.1\n",
    "ICU_Net.factors['T'] = t\n",
    "\n",
    "b = Factor(('O', 'T', 'B'), outcomeSpace)\n",
    "b[0, 0, 0] = 0.9\n",
    "b[0, 0, 1] = 0.05\n",
    "b[0, 0, 2] = 0.05\n",
    "b[0, 1, 0] = 0.30\n",
    "b[0, 1, 1] = 0.62\n",
    "b[0, 1, 2] = 0.08\n",
    "b[1, 0, 0] = 0.93\n",
    "b[1, 0, 1] = 0.06\n",
    "b[1, 0, 2] = 0.01\n",
    "b[1, 1, 0] = 0.02\n",
    "b[1, 1, 1] = 0.49\n",
    "b[1, 1, 2] = 0.49\n",
    "b[2, 0, 0] = 0.90\n",
    "b[2, 0, 1] = 0.08\n",
    "b[2, 0, 2] = 0.02\n",
    "b[2, 1, 0] = 0.01\n",
    "b[2, 1, 1] = 0.08\n",
    "b[2, 1, 2] = 0.91 \n",
    "ICU_Net.factors['B'] = b\n",
    "\n",
    "a = Factor(('A',), outcomeSpace)\n",
    "a[0] = 0.99\n",
    "a[1] = 0.01\n",
    "ICU_Net.factors['A'] = a\n",
    "\n",
    "ICU_Net.graph.show()\n"
   ]
  },
  {
   "cell_type": "markdown",
   "metadata": {},
   "source": [
    "\n",
    "For now on, we will use the same notation as the lecture slides. In particular, the variable sigma ($\\Sigma$) represents the assignment being sampled (variable by variable) from the Bayesian network. Each time we sample a value $x$ to a variable $X$, we add the entry `X:x` to the dictionary sigma.\n",
    "\n",
    "Here is a test to confirm the `sample_variable` function is implemented correctly."
   ]
  },
  {
   "cell_type": "code",
   "execution_count": 6,
   "metadata": {},
   "outputs": [
    {
     "name": "stdout",
     "output_type": "stream",
     "text": [
      "P(T=0|A=0)= 0.296\n",
      "P(T=1|A=0)= 0.704\n"
     ]
    }
   ],
   "source": [
    "#################\n",
    "# Test code\n",
    "\n",
    "random.seed(0)\n",
    "\n",
    "sigma = {'A': 0}\n",
    "zero = 0\n",
    "one = 0\n",
    "f = ICU_Net.factors['T']\n",
    "for i in range(1000):\n",
    "    sample = f.sample_variable('T', **sigma)\n",
    "    if sample == 0:\n",
    "        zero += 1\n",
    "    else:\n",
    "        one += 1\n",
    "print(\"P(T=0|A=0)=\",zero/(one+zero))\n",
    "print(\"P(T=1|A=0)=\",one/(one+zero))"
   ]
  },
  {
   "cell_type": "markdown",
   "metadata": {},
   "source": [
    "If your code is correct, you should see (approximately) the following output:\n",
    "\n",
    "```\n",
    "P(T=0|A=0)= 0.296\n",
    "P(T=1|A=0)= 0.704\n",
    "```\n",
    "\n",
    "Compare these numbers obtained with 1000 samples with the true probabilities in the factor $P(T|A)$."
   ]
  },
  {
   "cell_type": "markdown",
   "metadata": {},
   "source": [
    "\n",
    "# Simulate a Bayesian network\n",
    "\n",
    "Let's implement a procedure that simulates the Bayesian network. The simulation is the process that visits the network nodes in topological order and samples each node. At the end of the simulation, we will have a complete instantiation of the network variables.\n",
    "\n",
    "## Exercise\n",
    "\n",
    "Let's implement the function `simulate`. We will need the `<Graph>.topological_sort` and `<Factor>.sample_variable` functions implemented before."
   ]
  },
  {
   "cell_type": "code",
   "execution_count": 7,
   "metadata": {},
   "outputs": [
    {
     "ename": "TypeError",
     "evalue": "'ellipsis' object is not iterable",
     "output_type": "error",
     "traceback": [
      "\u001b[0;31m---------------------------------------------------------------------------\u001b[0m",
      "\u001b[0;31mTypeError\u001b[0m                                 Traceback (most recent call last)",
      "\u001b[0;32m<ipython-input-7-d16d54a96bdd>\u001b[0m in \u001b[0;36m<module>\u001b[0;34m\u001b[0m\n\u001b[1;32m     16\u001b[0m \u001b[0mrandom\u001b[0m\u001b[0;34m.\u001b[0m\u001b[0mseed\u001b[0m\u001b[0;34m(\u001b[0m\u001b[0;36m0\u001b[0m\u001b[0;34m)\u001b[0m\u001b[0;34m\u001b[0m\u001b[0;34m\u001b[0m\u001b[0m\n\u001b[1;32m     17\u001b[0m \u001b[0mICU_Net\u001b[0m \u001b[0;34m=\u001b[0m \u001b[0mBayesNet\u001b[0m\u001b[0;34m(\u001b[0m\u001b[0mICU_Net\u001b[0m\u001b[0;34m.\u001b[0m\u001b[0mgraph\u001b[0m\u001b[0;34m,\u001b[0m \u001b[0mICU_Net\u001b[0m\u001b[0;34m.\u001b[0m\u001b[0moutcomeSpace\u001b[0m\u001b[0;34m,\u001b[0m \u001b[0mICU_Net\u001b[0m\u001b[0;34m.\u001b[0m\u001b[0mfactors\u001b[0m\u001b[0;34m)\u001b[0m\u001b[0;34m\u001b[0m\u001b[0;34m\u001b[0m\u001b[0m\n\u001b[0;32m---> 18\u001b[0;31m \u001b[0mprint\u001b[0m\u001b[0;34m(\u001b[0m\u001b[0mICU_Net\u001b[0m\u001b[0;34m.\u001b[0m\u001b[0msimulate\u001b[0m\u001b[0;34m(\u001b[0m\u001b[0;34m)\u001b[0m\u001b[0;34m)\u001b[0m\u001b[0;34m\u001b[0m\u001b[0;34m\u001b[0m\u001b[0m\n\u001b[0m",
      "\u001b[0;32m<ipython-input-7-d16d54a96bdd>\u001b[0m in \u001b[0;36msimulate\u001b[0;34m(self)\u001b[0m\n\u001b[1;32m      6\u001b[0m         \u001b[0msigma\u001b[0m \u001b[0;34m=\u001b[0m \u001b[0;34m...\u001b[0m \u001b[0;31m# TODO\u001b[0m\u001b[0;34m\u001b[0m\u001b[0;34m\u001b[0m\u001b[0m\n\u001b[1;32m      7\u001b[0m         \u001b[0;31m# Let's iterate over all variables according to the order\u001b[0m\u001b[0;34m\u001b[0m\u001b[0;34m\u001b[0m\u001b[0;34m\u001b[0m\u001b[0m\n\u001b[0;32m----> 8\u001b[0;31m         \u001b[0;32mfor\u001b[0m \u001b[0mvar\u001b[0m \u001b[0;32min\u001b[0m \u001b[0morder\u001b[0m\u001b[0;34m:\u001b[0m\u001b[0;34m\u001b[0m\u001b[0;34m\u001b[0m\u001b[0m\n\u001b[0m\u001b[1;32m      9\u001b[0m             \u001b[0;31m# Call `sample_variable` to sample variable `var`, modifying the `sigma` assignment\u001b[0m\u001b[0;34m\u001b[0m\u001b[0;34m\u001b[0m\u001b[0;34m\u001b[0m\u001b[0m\n\u001b[1;32m     10\u001b[0m             \u001b[0msigma\u001b[0m\u001b[0;34m[\u001b[0m\u001b[0mvar\u001b[0m\u001b[0;34m]\u001b[0m \u001b[0;34m=\u001b[0m \u001b[0;34m...\u001b[0m \u001b[0;31m# TODO\u001b[0m\u001b[0;34m\u001b[0m\u001b[0;34m\u001b[0m\u001b[0m\n",
      "\u001b[0;31mTypeError\u001b[0m: 'ellipsis' object is not iterable"
     ]
    }
   ],
   "source": [
    "class BayesNet(BayesNet):\n",
    "    def simulate(self):\n",
    "        # Compute the topological order of G (since this function is called many times, we could alternatively precompute this order in __init__)\n",
    "        order = ... # TODO\n",
    "        # Initialize `sigma` with an empty dictionary\n",
    "        sigma = ... # TODO\n",
    "        # Let's iterate over all variables according to the order\n",
    "        for var in order:\n",
    "            # Call `sample_variable` to sample variable `var`, modifying the `sigma` assignment\n",
    "            sigma[var] = ... # TODO\n",
    "        return sigma\n",
    "\n",
    "####################\n",
    "# Test code\n",
    "\n",
    "random.seed(0)\n",
    "ICU_Net = BayesNet(ICU_Net.graph, ICU_Net.outcomeSpace, ICU_Net.factors)\n",
    "print(ICU_Net.simulate())\n"
   ]
  },
  {
   "cell_type": "code",
   "execution_count": 8,
   "metadata": {},
   "outputs": [
    {
     "name": "stdout",
     "output_type": "stream",
     "text": [
      "{'A': 0, 'T': 1, 'H': 0, 'L': 0, 'V': 1, 'C': 2, 'S': 1, 'O': 2, 'B': 2}\n"
     ]
    }
   ],
   "source": [
    "# Answer\n",
    "\n",
    "class BayesNet(BayesNet):\n",
    "    def simulate(self):\n",
    "        # Compute the topological order of G (since this function is called many times, we could alternatively precompute this order in __init__)\n",
    "        order = self.graph.topological_sort()\n",
    "        # Initialize `sigma` with an empty dictionary\n",
    "        sigma = {}\n",
    "        # Let's iterate over all variables according to the order\n",
    "        for var in order:\n",
    "            # Call `sample_variable` to sample variable `var`, modifying the `sigma` assignment\n",
    "            sigma[var] = self.factors[var].sample_variable(var, **sigma)\n",
    "        return sigma\n",
    "\n",
    "####################\n",
    "# Test code\n",
    "\n",
    "random.seed(0)\n",
    "ICU_Net = BayesNet(ICU_Net.graph, ICU_Net.outcomeSpace, ICU_Net.factors)\n",
    "print(ICU_Net.simulate())\n"
   ]
  },
  {
   "cell_type": "markdown",
   "metadata": {},
   "source": [
    "If your code is correct, you should see the following output:\n",
    "\n",
    "```\n",
    "{'A': 0, 'T': 1, 'H': 0, 'L': 0, 'V': 1, 'C': 2, 'S': 1, 'O': 2, 'B': 2}\n",
    "```\n",
    "\n",
    "This is one complete assignment sampled according to the underlying probability distribution specified by the Bayesian network. \n",
    "\n",
    "Let's now implement forward sampling to compute answers to prior marginal queries.\n",
    "\n",
    "# Forward sampling\n",
    "\n",
    "Forward sampling is a straightforward sampling procedure to compute prior marginal queries. Prior marginal queries are queries that do not involve evidence. Therefore, they are in the form $P(\\alpha)$ where $alpha$ is an assignment to one or more variables.\n",
    "\n",
    "In our implementation, we will specify a dictionary `alpha` that maps variables to values. For instance, if `alpha = {'A': 0})`, it means we want to compute $P(A=0)$. Similarly, if `alpha = {'A': 0, 'B': 1})`, we want to know $P(A=0,B=1)$. In addition, we will need to specify `n_samples` that is the number of samples used to estimate the probabilities.\n",
    "\n",
    "## Exercise\n",
    "\n",
    "Complete the implementation of `forward_sampling` function. "
   ]
  },
  {
   "cell_type": "code",
   "execution_count": 9,
   "metadata": {},
   "outputs": [
    {
     "ename": "TypeError",
     "evalue": "'ellipsis' object is not subscriptable",
     "output_type": "error",
     "traceback": [
      "\u001b[0;31m---------------------------------------------------------------------------\u001b[0m",
      "\u001b[0;31mTypeError\u001b[0m                                 Traceback (most recent call last)",
      "\u001b[0;32m<ipython-input-9-215d4d7f2e4e>\u001b[0m in \u001b[0;36m<module>\u001b[0;34m\u001b[0m\n\u001b[1;32m     20\u001b[0m \u001b[0mICU_Net\u001b[0m \u001b[0;34m=\u001b[0m \u001b[0mBayesNet\u001b[0m\u001b[0;34m(\u001b[0m\u001b[0mICU_Net\u001b[0m\u001b[0;34m.\u001b[0m\u001b[0mgraph\u001b[0m\u001b[0;34m,\u001b[0m \u001b[0mICU_Net\u001b[0m\u001b[0;34m.\u001b[0m\u001b[0moutcomeSpace\u001b[0m\u001b[0;34m,\u001b[0m \u001b[0mICU_Net\u001b[0m\u001b[0;34m.\u001b[0m\u001b[0mfactors\u001b[0m\u001b[0;34m)\u001b[0m\u001b[0;34m\u001b[0m\u001b[0;34m\u001b[0m\u001b[0m\n\u001b[1;32m     21\u001b[0m \u001b[0;34m\u001b[0m\u001b[0m\n\u001b[0;32m---> 22\u001b[0;31m \u001b[0mp\u001b[0m \u001b[0;34m=\u001b[0m \u001b[0mICU_Net\u001b[0m\u001b[0;34m.\u001b[0m\u001b[0mforward_sampling\u001b[0m\u001b[0;34m(\u001b[0m\u001b[0;36m1000\u001b[0m\u001b[0;34m,\u001b[0m \u001b[0;34m{\u001b[0m\u001b[0;34m'A'\u001b[0m\u001b[0;34m:\u001b[0m\u001b[0;36m0\u001b[0m\u001b[0;34m}\u001b[0m\u001b[0;34m)\u001b[0m\u001b[0;34m\u001b[0m\u001b[0;34m\u001b[0m\u001b[0m\n\u001b[0m\u001b[1;32m     23\u001b[0m \u001b[0mprint\u001b[0m\u001b[0;34m(\u001b[0m\u001b[0;34m\"P(A=0)=\"\u001b[0m\u001b[0;34m,\u001b[0m \u001b[0mp\u001b[0m\u001b[0;34m)\u001b[0m\u001b[0;34m\u001b[0m\u001b[0;34m\u001b[0m\u001b[0m\n\u001b[1;32m     24\u001b[0m \u001b[0mp\u001b[0m \u001b[0;34m=\u001b[0m \u001b[0mICU_Net\u001b[0m\u001b[0;34m.\u001b[0m\u001b[0mforward_sampling\u001b[0m\u001b[0;34m(\u001b[0m\u001b[0;36m1000\u001b[0m\u001b[0;34m,\u001b[0m \u001b[0;34m{\u001b[0m\u001b[0;34m'B'\u001b[0m\u001b[0;34m:\u001b[0m\u001b[0;36m1\u001b[0m\u001b[0;34m,\u001b[0m \u001b[0;34m'A'\u001b[0m\u001b[0;34m:\u001b[0m\u001b[0;36m0\u001b[0m\u001b[0;34m}\u001b[0m\u001b[0;34m)\u001b[0m\u001b[0;34m\u001b[0m\u001b[0;34m\u001b[0m\u001b[0m\n",
      "\u001b[0;32m<ipython-input-9-215d4d7f2e4e>\u001b[0m in \u001b[0;36mforward_sampling\u001b[0;34m(self, n_samples, alpha)\u001b[0m\n\u001b[1;32m     13\u001b[0m             \u001b[0msample\u001b[0m \u001b[0;34m=\u001b[0m \u001b[0;34m...\u001b[0m \u001b[0;31m# TODO\u001b[0m\u001b[0;34m\u001b[0m\u001b[0;34m\u001b[0m\u001b[0m\n\u001b[1;32m     14\u001b[0m             \u001b[0;31m# Let's test if alpha matches s. If it does, increment the count p\u001b[0m\u001b[0;34m\u001b[0m\u001b[0;34m\u001b[0m\u001b[0;34m\u001b[0m\u001b[0m\n\u001b[0;32m---> 15\u001b[0;31m             \u001b[0;32mif\u001b[0m \u001b[0;34m(\u001b[0m\u001b[0mall\u001b[0m\u001b[0;34m(\u001b[0m\u001b[0mv\u001b[0m \u001b[0;34m==\u001b[0m \u001b[0msample\u001b[0m\u001b[0;34m[\u001b[0m\u001b[0mk\u001b[0m\u001b[0;34m]\u001b[0m \u001b[0;32mfor\u001b[0m \u001b[0mk\u001b[0m\u001b[0;34m,\u001b[0m \u001b[0mv\u001b[0m \u001b[0;32min\u001b[0m \u001b[0malpha\u001b[0m\u001b[0;34m.\u001b[0m\u001b[0mitems\u001b[0m\u001b[0;34m(\u001b[0m\u001b[0;34m)\u001b[0m\u001b[0;34m)\u001b[0m\u001b[0;34m)\u001b[0m\u001b[0;34m:\u001b[0m\u001b[0;34m\u001b[0m\u001b[0;34m\u001b[0m\u001b[0m\n\u001b[0m\u001b[1;32m     16\u001b[0m                 \u001b[0mcount\u001b[0m \u001b[0;34m+=\u001b[0m \u001b[0;34m...\u001b[0m \u001b[0;31m# TODO\u001b[0m\u001b[0;34m\u001b[0m\u001b[0;34m\u001b[0m\u001b[0m\n\u001b[1;32m     17\u001b[0m         \u001b[0;32mreturn\u001b[0m \u001b[0mcount\u001b[0m\u001b[0;34m/\u001b[0m\u001b[0mn_samples\u001b[0m\u001b[0;34m\u001b[0m\u001b[0;34m\u001b[0m\u001b[0m\n",
      "\u001b[0;32m<ipython-input-9-215d4d7f2e4e>\u001b[0m in \u001b[0;36m<genexpr>\u001b[0;34m(.0)\u001b[0m\n\u001b[1;32m     13\u001b[0m             \u001b[0msample\u001b[0m \u001b[0;34m=\u001b[0m \u001b[0;34m...\u001b[0m \u001b[0;31m# TODO\u001b[0m\u001b[0;34m\u001b[0m\u001b[0;34m\u001b[0m\u001b[0m\n\u001b[1;32m     14\u001b[0m             \u001b[0;31m# Let's test if alpha matches s. If it does, increment the count p\u001b[0m\u001b[0;34m\u001b[0m\u001b[0;34m\u001b[0m\u001b[0;34m\u001b[0m\u001b[0m\n\u001b[0;32m---> 15\u001b[0;31m             \u001b[0;32mif\u001b[0m \u001b[0;34m(\u001b[0m\u001b[0mall\u001b[0m\u001b[0;34m(\u001b[0m\u001b[0mv\u001b[0m \u001b[0;34m==\u001b[0m \u001b[0msample\u001b[0m\u001b[0;34m[\u001b[0m\u001b[0mk\u001b[0m\u001b[0;34m]\u001b[0m \u001b[0;32mfor\u001b[0m \u001b[0mk\u001b[0m\u001b[0;34m,\u001b[0m \u001b[0mv\u001b[0m \u001b[0;32min\u001b[0m \u001b[0malpha\u001b[0m\u001b[0;34m.\u001b[0m\u001b[0mitems\u001b[0m\u001b[0;34m(\u001b[0m\u001b[0;34m)\u001b[0m\u001b[0;34m)\u001b[0m\u001b[0;34m)\u001b[0m\u001b[0;34m:\u001b[0m\u001b[0;34m\u001b[0m\u001b[0;34m\u001b[0m\u001b[0m\n\u001b[0m\u001b[1;32m     16\u001b[0m                 \u001b[0mcount\u001b[0m \u001b[0;34m+=\u001b[0m \u001b[0;34m...\u001b[0m \u001b[0;31m# TODO\u001b[0m\u001b[0;34m\u001b[0m\u001b[0;34m\u001b[0m\u001b[0m\n\u001b[1;32m     17\u001b[0m         \u001b[0;32mreturn\u001b[0m \u001b[0mcount\u001b[0m\u001b[0;34m/\u001b[0m\u001b[0mn_samples\u001b[0m\u001b[0;34m\u001b[0m\u001b[0;34m\u001b[0m\u001b[0m\n",
      "\u001b[0;31mTypeError\u001b[0m: 'ellipsis' object is not subscriptable"
     ]
    }
   ],
   "source": [
    "class BayesNet(BayesNet):\n",
    "    def forward_sampling(self, n_samples, alpha):\n",
    "        '''\n",
    "        This function answers queries like: What is the probability that B=1? Or B=1 and T=0?\n",
    "        `n_samples`: number of samples used to compute the probabilities\n",
    "        `alpha`: The query vars, a dictionary mapping variables to values\n",
    "        return: P(alpha)\n",
    "        '''\n",
    "        # Initialise count. The variable counts the number of samples that agree with alpha \n",
    "        count = ... # TODO\n",
    "        for i in range(n_samples):\n",
    "            # Call simulate to obtain a new assigment according to P(X)\n",
    "            sample = ... # TODO\n",
    "            # Let's test if alpha matches s. If it does, increment the count p\n",
    "            if (all(v == sample[k] for k, v in alpha.items())):\n",
    "                count += ... # TODO\n",
    "        return count/n_samples\n",
    "\n",
    "random.seed(0)\n",
    "ICU_Net = BayesNet(ICU_Net.graph, ICU_Net.outcomeSpace, ICU_Net.factors)\n",
    "\n",
    "p = ICU_Net.forward_sampling(1000, {'A':0})\n",
    "print(\"P(A=0)=\", p)\n",
    "p = ICU_Net.forward_sampling(1000, {'B':1, 'A':0})\n",
    "print(\"P(B=1,A=0)=\", p)\n"
   ]
  },
  {
   "cell_type": "code",
   "execution_count": 10,
   "metadata": {},
   "outputs": [
    {
     "name": "stdout",
     "output_type": "stream",
     "text": [
      "P(A=0)= 0.993\n",
      "P(B=1,A=0)= 0.183\n"
     ]
    }
   ],
   "source": [
    "# Answer \n",
    "\n",
    "class BayesNet(BayesNet):\n",
    "    def forward_sampling(self, n_samples, alpha):\n",
    "        '''\n",
    "        This function answers queries like: What is the probability that B=1? Or B=1 and T=0?\n",
    "        `n_samples`: number of samples used to compute the probabilities\n",
    "        `alpha`: The query vars, a dictionary mapping variables to values\n",
    "        return: P(alpha)\n",
    "        '''\n",
    "        # Initialise count. The variable counts the number of samples that agree with alpha \n",
    "        count = 0\n",
    "        for i in range(n_samples):\n",
    "            # Call simulate to obtain a new assigment according to P(X)\n",
    "            sample = self.simulate()\n",
    "            # Let's test if alpha matches s. If it does, increment the count p\n",
    "            if (all(v == sample[k] for k, v in alpha.items())):\n",
    "                count += 1\n",
    "        return count/n_samples\n",
    "\n",
    "random.seed(0)\n",
    "ICU_Net = BayesNet(ICU_Net.graph, ICU_Net.outcomeSpace, ICU_Net.factors)\n",
    "\n",
    "p = ICU_Net.forward_sampling(1000, {'A':0})\n",
    "print(\"P(A=0)=\", p)\n",
    "p = ICU_Net.forward_sampling(1000, {'B':1, 'A':0})\n",
    "print(\"P(B=1,A=0)=\", p)"
   ]
  },
  {
   "cell_type": "markdown",
   "metadata": {},
   "source": [
    "If your code is correct, you should see the following output (approximately):\n",
    "\n",
    "```\n",
    "P(A=0)= 0.993\n",
    "P(B=1,A=0)= 0.183\n",
    "```\n",
    "\n",
    "## Benchmarking with random queries\n",
    "\n",
    "To benchmark our code, we need a large set of queries. As the forward sampling can only compute prior marginals, our queries need to be the form $P(\\textbf{Q=q})$ where $\\textbf{Q}$ are the query variables and $\\textbf{q}$ are the corresponding values.\n",
    "\n",
    "Next, we create a procedure that will create a set of random queries. We will use these queries to compare the sampling estimates to the true probabilities obtained with variable elimination.\n",
    "\n",
    "First, let's take a look at a helper function that creates a random assignment with a maximum number of variables specified by `n_vars`."
   ]
  },
  {
   "cell_type": "code",
   "execution_count": 12,
   "metadata": {},
   "outputs": [
    {
     "name": "stdout",
     "output_type": "stream",
     "text": [
      "{'C': 1, 'H': 1, 'A': 1, 'S': 1}\n",
      "{'V': 1, 'A': 0}\n",
      "{'S': 0}\n"
     ]
    }
   ],
   "source": [
    "# This is a helper function that creates an assignment (dictionary) with at most n_vars variables\n",
    "def random_assignment(outcomeSpace, n_vars, exclude = []):\n",
    "    \"\"\"\n",
    "    argument\n",
    "    `outcomeSpace`: dictionary with variables names and corresponding valid values\n",
    "    `n_vars`: maximum number of variables in the assignment\n",
    "    `exclude`: list of variables names that cannot be included in the assignment\n",
    "    return: dictionary representing an assignment with variables as keys and their corresponding values\n",
    "    \"\"\"    \n",
    "    all_vars = [v for v in outcomeSpace.keys() if v not in exclude]\n",
    "    rvars = random.sample(all_vars, random.randint(1, n_vars))\n",
    "    return { v : random.choice(outcomeSpace[v]) for v in rvars}\n",
    "\n",
    "################\n",
    "# Test code\n",
    "\n",
    "random.seed(0)\n",
    "print(random_assignment(outcomeSpace, 5))\n",
    "print(random_assignment(outcomeSpace, 3))\n",
    "print(random_assignment(outcomeSpace, 1))"
   ]
  },
  {
   "cell_type": "markdown",
   "metadata": {},
   "source": [
    "Now, we will implement a function that answers the queries created by `random_assignment`. We will use the variable elimination algorithm.\n",
    "\n",
    "## Exercise \n",
    "\n",
    "Implement the `query_generator_prior_marginal`. This function calls `random_assignment` to create prior marginal queries and answers those queries with the VE algorithm. The argument `n_queries` specifies the number of queries to be created and answered."
   ]
  },
  {
   "cell_type": "code",
   "execution_count": 14,
   "metadata": {},
   "outputs": [
    {
     "ename": "AttributeError",
     "evalue": "'ellipsis' object has no attribute 'domain'",
     "output_type": "error",
     "traceback": [
      "\u001b[0;31m---------------------------------------------------------------------------\u001b[0m",
      "\u001b[0;31mAttributeError\u001b[0m                            Traceback (most recent call last)",
      "\u001b[0;32m<ipython-input-14-10447f568c9f>\u001b[0m in \u001b[0;36m<module>\u001b[0;34m\u001b[0m\n\u001b[1;32m     25\u001b[0m \u001b[0;34m\u001b[0m\u001b[0m\n\u001b[1;32m     26\u001b[0m \u001b[0mrandom\u001b[0m\u001b[0;34m.\u001b[0m\u001b[0mseed\u001b[0m\u001b[0;34m(\u001b[0m\u001b[0;36m0\u001b[0m\u001b[0;34m)\u001b[0m\u001b[0;34m\u001b[0m\u001b[0;34m\u001b[0m\u001b[0m\n\u001b[0;32m---> 27\u001b[0;31m \u001b[0mresults\u001b[0m \u001b[0;34m=\u001b[0m \u001b[0mquery_generator_prior_marginal\u001b[0m\u001b[0;34m(\u001b[0m\u001b[0;36m10\u001b[0m\u001b[0;34m,\u001b[0m \u001b[0mICU_Net\u001b[0m\u001b[0;34m)\u001b[0m\u001b[0;34m\u001b[0m\u001b[0;34m\u001b[0m\u001b[0m\n\u001b[0m\u001b[1;32m     28\u001b[0m \u001b[0;32mfor\u001b[0m \u001b[0mr\u001b[0m \u001b[0;32min\u001b[0m \u001b[0mresults\u001b[0m\u001b[0;34m:\u001b[0m\u001b[0;34m\u001b[0m\u001b[0;34m\u001b[0m\u001b[0m\n\u001b[1;32m     29\u001b[0m     \u001b[0mprint\u001b[0m\u001b[0;34m(\u001b[0m\u001b[0;34m\"P(\"\u001b[0m\u001b[0;34m,\u001b[0m\u001b[0mr\u001b[0m\u001b[0;34m[\u001b[0m\u001b[0;34m'query'\u001b[0m\u001b[0;34m]\u001b[0m\u001b[0;34m,\u001b[0m\u001b[0;34m\") =\"\u001b[0m\u001b[0;34m,\u001b[0m\u001b[0mr\u001b[0m\u001b[0;34m[\u001b[0m\u001b[0;34m'prob'\u001b[0m\u001b[0;34m]\u001b[0m\u001b[0;34m)\u001b[0m\u001b[0;34m\u001b[0m\u001b[0;34m\u001b[0m\u001b[0m\n",
      "\u001b[0;32m<ipython-input-14-10447f568c9f>\u001b[0m in \u001b[0;36mquery_generator_prior_marginal\u001b[0;34m(n_queries, bayesNet)\u001b[0m\n\u001b[1;32m     15\u001b[0m         \u001b[0mf\u001b[0m \u001b[0;34m=\u001b[0m \u001b[0;34m...\u001b[0m \u001b[0;31m# TODO\u001b[0m\u001b[0;34m\u001b[0m\u001b[0;34m\u001b[0m\u001b[0m\n\u001b[1;32m     16\u001b[0m         \u001b[0;31m# Prepare the entries to compute the probability\u001b[0m\u001b[0;34m\u001b[0m\u001b[0;34m\u001b[0m\u001b[0;34m\u001b[0m\u001b[0m\n\u001b[0;32m---> 17\u001b[0;31m         \u001b[0mentry\u001b[0m \u001b[0;34m=\u001b[0m \u001b[0mtuple\u001b[0m\u001b[0;34m(\u001b[0m\u001b[0malpha\u001b[0m\u001b[0;34m[\u001b[0m\u001b[0mv\u001b[0m\u001b[0;34m]\u001b[0m \u001b[0;32mfor\u001b[0m \u001b[0mv\u001b[0m \u001b[0;32min\u001b[0m \u001b[0mf\u001b[0m\u001b[0;34m.\u001b[0m\u001b[0mdomain\u001b[0m\u001b[0;34m)\u001b[0m\u001b[0;34m\u001b[0m\u001b[0;34m\u001b[0m\u001b[0m\n\u001b[0m\u001b[1;32m     18\u001b[0m         \u001b[0;31m# Store the results in query_list\u001b[0m\u001b[0;34m\u001b[0m\u001b[0;34m\u001b[0m\u001b[0;34m\u001b[0m\u001b[0m\n\u001b[1;32m     19\u001b[0m         \u001b[0mquery_list\u001b[0m\u001b[0;34m.\u001b[0m\u001b[0mappend\u001b[0m\u001b[0;34m(\u001b[0m\u001b[0;34m{\u001b[0m\u001b[0;34m'query'\u001b[0m\u001b[0;34m:\u001b[0m \u001b[0malpha\u001b[0m\u001b[0;34m,\u001b[0m \u001b[0;34m'prob'\u001b[0m\u001b[0;34m:\u001b[0m \u001b[0mf\u001b[0m\u001b[0;34m[\u001b[0m\u001b[0mentry\u001b[0m\u001b[0;34m]\u001b[0m\u001b[0;34m}\u001b[0m\u001b[0;34m)\u001b[0m\u001b[0;34m\u001b[0m\u001b[0;34m\u001b[0m\u001b[0m\n",
      "\u001b[0;31mAttributeError\u001b[0m: 'ellipsis' object has no attribute 'domain'"
     ]
    }
   ],
   "source": [
    "def query_generator_prior_marginal(n_queries, bayesNet):\n",
    "    \"\"\"\n",
    "    argument\n",
    "    `n_queries`: number of queries to be created and answered\n",
    "    `factors`: a dictionary will all netowrk factors\n",
    "    `outcomeSpace`: dictionary with variables names and corresponding valid values\n",
    "    return: list of dictionaries with the query and associated probability exactly computed with the VE algorithm\n",
    "    \"\"\"\n",
    "    # query_list starts as an empty list\n",
    "    query_list = ... # TODO\n",
    "    for i in range(n_queries):\n",
    "        # Assign to alpha a random assignment created by `random_assignment`\n",
    "        alpha = random_assignment(bayesNet.outcomeSpace, 3)\n",
    "        # Compute the answer to alpha using the VE query function from week 4\n",
    "        f = ... # TODO\n",
    "        # Prepare the entries to compute the probability\n",
    "        entry = tuple(alpha[v] for v in f.domain)\n",
    "        # Store the results in query_list\n",
    "        query_list.append({'query': alpha, 'prob': f[entry]})\n",
    "    return query_list\n",
    "\n",
    "\n",
    "################\n",
    "# Test code\n",
    "\n",
    "random.seed(0)\n",
    "results = query_generator_prior_marginal(10, ICU_Net)\n",
    "for r in results:\n",
    "    print(\"P(\",r['query'],\") =\",r['prob'])"
   ]
  },
  {
   "cell_type": "code",
   "execution_count": 15,
   "metadata": {},
   "outputs": [
    {
     "name": "stdout",
     "output_type": "stream",
     "text": [
      "P( {'C': 1, 'H': 1} ) = 0.008637999999999998\n",
      "P( {'S': 1, 'O': 2} ) = 0.6857236800000001\n",
      "P( {'B': 0} ) = 0.3210289226056\n",
      "P( {'A': 1, 'L': 0} ) = 0.009500000000000001\n",
      "P( {'L': 1, 'B': 1} ) = 0.01971616586\n",
      "P( {'L': 1, 'T': 0, 'V': 1} ) = 0.011322000000000004\n",
      "P( {'B': 0, 'S': 0} ) = 0.07445750776239998\n",
      "P( {'C': 2} ) = 0.55263\n",
      "P( {'H': 1, 'O': 0, 'C': 2} ) = 0.0028169927999999998\n",
      "P( {'L': 0, 'V': 0} ) = 0.22609999999999997\n"
     ]
    }
   ],
   "source": [
    "# Answer\n",
    "\n",
    "def query_generator_prior_marginal(n_queries, bayesNet):\n",
    "    \"\"\"\n",
    "    argument\n",
    "    `n_queries`: number of queries to be created and answered\n",
    "    `factors`: a dictionary will all netowrk factors\n",
    "    `outcomeSpace`: dictionary with variables names and corresponding valid values\n",
    "    return: list of dictionaries with the query and associated probability exactly computed with the VE algorithm\n",
    "    \"\"\"\n",
    "    # query_list starts as an empty list\n",
    "    query_list = []\n",
    "    for i in range(n_queries):\n",
    "        # Assign to alpha a random assignment created by `random_assignment`\n",
    "        alpha = random_assignment(bayesNet.outcomeSpace, 3)\n",
    "        # Compute the answer to alpha using the VE query function\n",
    "        f = bayesNet.query(alpha.keys())\n",
    "        # Prepare the entries to compute the probability\n",
    "        entry = tuple(alpha[v] for v in f.domain)\n",
    "        # Store the results in query_list\n",
    "        query_list.append({'query': alpha, 'prob': f[entry]})\n",
    "    return query_list\n",
    "\n",
    "\n",
    "################\n",
    "# Test code\n",
    "\n",
    "random.seed(0)\n",
    "results = query_generator_prior_marginal(10, ICU_Net)\n",
    "for r in results:\n",
    "    print(\"P(\",r['query'],\") =\",r['prob'])"
   ]
  },
  {
   "cell_type": "markdown",
   "metadata": {},
   "source": [
    "If your code is correct, you should see the following output:\n",
    "\n",
    "```\n",
    "P( {'C': 1, 'H': 1} ) = 0.008638\n",
    "P( {'S': 1, 'O': 2} ) = 0.6857236800000002\n",
    "P( {'B': 0} ) = 0.3210289226056\n",
    "P( {'A': 1, 'L': 0} ) = 0.009500000000000001\n",
    "P( {'L': 1, 'B': 1} ) = 0.01971616586\n",
    "P( {'L': 1, 'T': 0, 'V': 1} ) = 0.011322000000000004\n",
    "P( {'B': 0, 'S': 0} ) = 0.07445750776239998\n",
    "P( {'C': 2} ) = 0.5526300000000001\n",
    "P( {'H': 1, 'O': 0, 'C': 2} ) = 0.0028169927999999998\n",
    "P( {'L': 0, 'V': 0} ) = 0.22609999999999997\n",
    "```\n",
    "\n",
    "Now, we will use the developed functions to create 300 queries and answer them with VE and forward sampling. We will use a scatter plot to compare the results. We have developed some code in the next cell to do this task. (May take ~ 30 seconds)."
   ]
  },
  {
   "cell_type": "code",
   "execution_count": 17,
   "metadata": {},
   "outputs": [
    {
     "data": {
      "image/png": "[encoded data removed]",
      "text/plain": [
       "<Figure size 1080x360 with 3 Axes>"
      ]
     },
     "metadata": {
      "needs_background": "light"
     },
     "output_type": "display_data"
    }
   ],
   "source": [
    "random.seed(0)\n",
    "queries = query_generator_prior_marginal(300, ICU_Net)\n",
    "x = [q['prob'] for q in queries]\n",
    "y_100 = [ICU_Net.forward_sampling(100, q['query']) for q in queries]\n",
    "plt.figure(figsize=(15, 5))\n",
    "plt.subplot(1,3,1)\n",
    "plt.scatter(x, y_100)\n",
    "plt.title(\"100 samples\")\n",
    "plt.xlabel(\"True probabilities\")\n",
    "plt.ylabel(\"Forward sampling\")\n",
    "y_500 = [ICU_Net.forward_sampling(500, q['query']) for q in queries]\n",
    "plt.subplot(1,3,2)\n",
    "plt.scatter(x, y_500)\n",
    "plt.title(\"500 samples\")    \n",
    "plt.xlabel(\"True probabilities\")\n",
    "plt.ylabel(\"Forward sampling\")\n",
    "y_1000 = [ICU_Net.forward_sampling(1000, q['query']) for q in queries]\n",
    "plt.subplot(1,3,3)\n",
    "plt.scatter(x, y_1000)\n",
    "plt.title(\"1000 samples\")    \n",
    "plt.xlabel(\"True probabilities\")\n",
    "plt.ylabel(\"Forward sampling\")    \n",
    "plt.show()"
   ]
  },
  {
   "cell_type": "markdown",
   "metadata": {},
   "source": [
    "Great, we can see that forward sampling works quite well for unconditional queries. Let's take a look at the relative errors."
   ]
  },
  {
   "cell_type": "code",
   "execution_count": 18,
   "metadata": {},
   "outputs": [
    {
     "data": {
      "image/png": "[encoded data removed]",
      "text/plain": [
       "<Figure size 1080x360 with 3 Axes>"
      ]
     },
     "metadata": {
      "needs_background": "light"
     },
     "output_type": "display_data"
    }
   ],
   "source": [
    "random.seed(0)\n",
    "#queries = query_generator_prior_marginal(300, ICU_Net)\n",
    "x = [q['prob'] for q in queries]\n",
    "#y_100 = [ICU_Net.forward_sampling(100, q['query']) for q in queries]\n",
    "relative_error = [abs(x[i]-y_100[i])/x[i] for i in range(len(x)) if x[i] != 0]\n",
    "probs = [p for p in x if p != 0]\n",
    "plt.figure(figsize=(15, 5))\n",
    "plt.subplot(1,3,1)\n",
    "plt.scatter(probs, relative_error)\n",
    "plt.title(\"100 samples\")\n",
    "plt.xlabel(\"True probabilities\")\n",
    "plt.ylabel(\"Relative error\")\n",
    "#y = [ICU_Net.forward_sampling(500, q['query']) for q in queries]\n",
    "relative_error = [abs(x[i]-y_500[i])/x[i] for i in range(len(x)) if x[i] != 0]\n",
    "plt.subplot(1,3,2)\n",
    "plt.scatter(probs, relative_error)\n",
    "plt.title(\"500 samples\")    \n",
    "plt.xlabel(\"True probabilities\")\n",
    "plt.ylabel(\"Relative error\")\n",
    "#y = [ICU_Net.forward_sampling(1000, q['query']) for q in queries]\n",
    "relative_error = [abs(x[i]-y_1000[i])/x[i] for i in range(len(x)) if x[i] != 0]\n",
    "plt.subplot(1,3,3)\n",
    "plt.scatter(probs, relative_error)\n",
    "plt.title(\"1000 samples\")    \n",
    "plt.xlabel(\"True probabilities\")\n",
    "plt.ylabel(\"Relative error\")\n",
    "plt.show()"
   ]
  },
  {
   "cell_type": "markdown",
   "metadata": {},
   "source": [
    "As we expected, the relative errors tend to be high for small probabilities, indicating that it is challenging to be relatively accurate in rare events. \n",
    "\n",
    "# Rejection sampling\n",
    "\n",
    "Forward sampling is restricted to unconditional queries ($P(\\textbf{Q})$). If we want to compute posterior marginals, we can make a straightforward adaptation. We reject all samples that do not match the evidence. This procedure is called rejection sampling.\n",
    "\n",
    "The main difference between rejection and forward sampling is the simulation of the Bayesian network. With rejection sampling, we typically abort the simulation if we sample a value $x$ for an evidence variable $X \\in \\textbf{E}$ that do conform with the evidence $\\textbf{e}$.\n",
    "\n",
    "## Exercise\n",
    "\n",
    "Let's start by implementing a function to simulate the network according to rejection sampling. The function `simulate_BN_rejection` has an argument `beta` that represents an assignment with the evidence. `beta` is a dictionary with the same format as `alpha`. Our objective will be to answer queries in the format $P(\\alpha|\\beta)$"
   ]
  },
  {
   "cell_type": "code",
   "execution_count": 19,
   "metadata": {},
   "outputs": [
    {
     "ename": "TypeError",
     "evalue": "'ellipsis' object is not iterable",
     "output_type": "error",
     "traceback": [
      "\u001b[0;31m---------------------------------------------------------------------------\u001b[0m",
      "\u001b[0;31mTypeError\u001b[0m                                 Traceback (most recent call last)",
      "\u001b[0;32m<ipython-input-19-ebdcbc080d60>\u001b[0m in \u001b[0;36m<module>\u001b[0;34m\u001b[0m\n\u001b[1;32m     23\u001b[0m \u001b[0mrandom\u001b[0m\u001b[0;34m.\u001b[0m\u001b[0mseed\u001b[0m\u001b[0;34m(\u001b[0m\u001b[0;36m0\u001b[0m\u001b[0;34m)\u001b[0m\u001b[0;34m\u001b[0m\u001b[0;34m\u001b[0m\u001b[0m\n\u001b[1;32m     24\u001b[0m \u001b[0mICU_Net\u001b[0m \u001b[0;34m=\u001b[0m \u001b[0mBayesNet\u001b[0m\u001b[0;34m(\u001b[0m\u001b[0mICU_Net\u001b[0m\u001b[0;34m.\u001b[0m\u001b[0mgraph\u001b[0m\u001b[0;34m,\u001b[0m \u001b[0mICU_Net\u001b[0m\u001b[0;34m.\u001b[0m\u001b[0moutcomeSpace\u001b[0m\u001b[0;34m,\u001b[0m \u001b[0mICU_Net\u001b[0m\u001b[0;34m.\u001b[0m\u001b[0mfactors\u001b[0m\u001b[0;34m)\u001b[0m\u001b[0;34m\u001b[0m\u001b[0;34m\u001b[0m\u001b[0m\n\u001b[0;32m---> 25\u001b[0;31m \u001b[0mprint\u001b[0m\u001b[0;34m(\u001b[0m\u001b[0mICU_Net\u001b[0m\u001b[0;34m.\u001b[0m\u001b[0msimulate_rejection\u001b[0m\u001b[0;34m(\u001b[0m\u001b[0;34m{\u001b[0m\u001b[0;34m'A'\u001b[0m\u001b[0;34m:\u001b[0m\u001b[0;36m0\u001b[0m\u001b[0;34m}\u001b[0m\u001b[0;34m)\u001b[0m\u001b[0;34m)\u001b[0m\u001b[0;34m\u001b[0m\u001b[0;34m\u001b[0m\u001b[0m\n\u001b[0m",
      "\u001b[0;32m<ipython-input-19-ebdcbc080d60>\u001b[0m in \u001b[0;36msimulate_rejection\u001b[0;34m(self, beta)\u001b[0m\n\u001b[1;32m     10\u001b[0m         \u001b[0msigma\u001b[0m \u001b[0;34m=\u001b[0m \u001b[0;34m{\u001b[0m\u001b[0;34m}\u001b[0m\u001b[0;34m\u001b[0m\u001b[0;34m\u001b[0m\u001b[0m\n\u001b[1;32m     11\u001b[0m         \u001b[0;31m# Let's iterate over all variables according to the order\u001b[0m\u001b[0;34m\u001b[0m\u001b[0;34m\u001b[0m\u001b[0;34m\u001b[0m\u001b[0m\n\u001b[0;32m---> 12\u001b[0;31m         \u001b[0;32mfor\u001b[0m \u001b[0mvar\u001b[0m \u001b[0;32min\u001b[0m \u001b[0morder\u001b[0m\u001b[0;34m:\u001b[0m\u001b[0;34m\u001b[0m\u001b[0;34m\u001b[0m\u001b[0m\n\u001b[0m\u001b[1;32m     13\u001b[0m             \u001b[0;31m# Call `sample_variable` to sample variable `var`, modifying the `sigma` assignment\u001b[0m\u001b[0;34m\u001b[0m\u001b[0;34m\u001b[0m\u001b[0;34m\u001b[0m\u001b[0m\n\u001b[1;32m     14\u001b[0m             \u001b[0msigma\u001b[0m\u001b[0;34m[\u001b[0m\u001b[0mvar\u001b[0m\u001b[0;34m]\u001b[0m \u001b[0;34m=\u001b[0m \u001b[0;34m...\u001b[0m \u001b[0;31m# TODO\u001b[0m\u001b[0;34m\u001b[0m\u001b[0;34m\u001b[0m\u001b[0m\n",
      "\u001b[0;31mTypeError\u001b[0m: 'ellipsis' object is not iterable"
     ]
    }
   ],
   "source": [
    "class BayesNet(BayesNet):\n",
    "    def simulate_rejection(self, beta):\n",
    "        '''\n",
    "        This procedure samples all variables in the Bayesian network. If we sample a value for a variable in beta and\n",
    "        the sampled value does not match the assignment beta then we abort the simulation and return None\n",
    "        '''\n",
    "        # Compute the topological order of G (since this function is called many times, we could alternatively precompute this order in __init__)\n",
    "        order = ... # TODO\n",
    "        # Initialize `sigma` with an empty dictionary\n",
    "        sigma = {}\n",
    "        # Let's iterate over all variables according to the order\n",
    "        for var in order:\n",
    "            # Call `sample_variable` to sample variable `var`, modifying the `sigma` assignment\n",
    "            sigma[var] = ... # TODO\n",
    "            # Test if the sampled value matches beta, if it does not abort and return None\n",
    "            if var in beta.keys() and sigma[var] != beta[var]:\n",
    "                return None\n",
    "        return sigma\n",
    "\n",
    "####################\n",
    "# Test code\n",
    "\n",
    "random.seed(0)\n",
    "ICU_Net = BayesNet(ICU_Net.graph, ICU_Net.outcomeSpace, ICU_Net.factors)\n",
    "print(ICU_Net.simulate_rejection({'A':0}))"
   ]
  },
  {
   "cell_type": "code",
   "execution_count": 20,
   "metadata": {},
   "outputs": [
    {
     "name": "stdout",
     "output_type": "stream",
     "text": [
      "{'A': 0, 'T': 1, 'H': 0, 'L': 0, 'V': 1, 'C': 2, 'S': 1, 'O': 2, 'B': 2}\n"
     ]
    }
   ],
   "source": [
    "# Answer\n",
    "\n",
    "class BayesNet(BayesNet):\n",
    "    def simulate_rejection(self, beta):\n",
    "        '''\n",
    "        This procedure samples all variables in the Bayesian network. If we sample a value for a variable in beta and\n",
    "        the sampled value does not match the assignment beta then we abort the simulation and return None\n",
    "        '''\n",
    "        # Compute the topological order of G (since this function is called many times, we could alternatively precompute this order in __init__)\n",
    "        order = self.graph.topological_sort()\n",
    "        # Initialize `sigma` with an empty dictionary\n",
    "        sigma = {}\n",
    "        # Let's iterate over all variables according to the order\n",
    "        for var in order:\n",
    "            # Call `sample_variable` to sample variable `var`, modifying the `sigma` assignment\n",
    "            sigma[var] = self.factors[var].sample_variable(var, **sigma)\n",
    "            # Test if the sampled value matches beta, if it does not abort and return None\n",
    "            if var in beta.keys() and sigma[var] != beta[var]:\n",
    "                return None\n",
    "        return sigma\n",
    "\n",
    "####################\n",
    "# Test code\n",
    "\n",
    "random.seed(0)\n",
    "ICU_Net = BayesNet(ICU_Net.graph, ICU_Net.outcomeSpace, ICU_Net.factors)\n",
    "print(ICU_Net.simulate_rejection({'A':0}))"
   ]
  },
  {
   "cell_type": "markdown",
   "metadata": {},
   "source": [
    "If your code is correct, you should see the following output:\n",
    "\n",
    "```\n",
    "{'A': 0, 'T': 1, 'H': 0, 'L': 0, 'V': 1, 'C': 2, 'S': 1, 'O': 2, 'B': 2}\n",
    "```\n",
    "\n",
    "## Exercise\n",
    "\n",
    "Let's complete the implementation of rejection sampling. The function `rejection_sampling` is very similar to `forward_sampling`. It will take `alpha` and `beta` assignments as input and return an estimate of $P(\\alpha|\\beta)$."
   ]
  },
  {
   "cell_type": "code",
   "execution_count": 21,
   "metadata": {},
   "outputs": [
    {
     "ename": "TypeError",
     "evalue": "'ellipsis' object is not subscriptable",
     "output_type": "error",
     "traceback": [
      "\u001b[0;31m---------------------------------------------------------------------------\u001b[0m",
      "\u001b[0;31mTypeError\u001b[0m                                 Traceback (most recent call last)",
      "\u001b[0;32m<ipython-input-21-2015f2a742c5>\u001b[0m in \u001b[0;36m<module>\u001b[0;34m\u001b[0m\n\u001b[1;32m     31\u001b[0m \u001b[0mICU_Net\u001b[0m \u001b[0;34m=\u001b[0m \u001b[0mBayesNet\u001b[0m\u001b[0;34m(\u001b[0m\u001b[0mICU_Net\u001b[0m\u001b[0;34m.\u001b[0m\u001b[0mgraph\u001b[0m\u001b[0;34m,\u001b[0m \u001b[0mICU_Net\u001b[0m\u001b[0;34m.\u001b[0m\u001b[0moutcomeSpace\u001b[0m\u001b[0;34m,\u001b[0m \u001b[0mICU_Net\u001b[0m\u001b[0;34m.\u001b[0m\u001b[0mfactors\u001b[0m\u001b[0;34m)\u001b[0m\u001b[0;34m\u001b[0m\u001b[0;34m\u001b[0m\u001b[0m\n\u001b[1;32m     32\u001b[0m \u001b[0;34m\u001b[0m\u001b[0m\n\u001b[0;32m---> 33\u001b[0;31m \u001b[0mp\u001b[0m\u001b[0;34m,\u001b[0m\u001b[0mn\u001b[0m \u001b[0;34m=\u001b[0m \u001b[0mICU_Net\u001b[0m\u001b[0;34m.\u001b[0m\u001b[0mrejection_sampling\u001b[0m\u001b[0;34m(\u001b[0m\u001b[0;36m1000\u001b[0m\u001b[0;34m,\u001b[0m \u001b[0;34m{\u001b[0m\u001b[0;34m'T'\u001b[0m\u001b[0;34m:\u001b[0m\u001b[0;36m0\u001b[0m\u001b[0;34m}\u001b[0m\u001b[0;34m,\u001b[0m \u001b[0;34m{\u001b[0m\u001b[0;34m'A'\u001b[0m\u001b[0;34m:\u001b[0m\u001b[0;36m0\u001b[0m\u001b[0;34m}\u001b[0m\u001b[0;34m)\u001b[0m\u001b[0;34m\u001b[0m\u001b[0;34m\u001b[0m\u001b[0m\n\u001b[0m\u001b[1;32m     34\u001b[0m \u001b[0mprint\u001b[0m\u001b[0;34m(\u001b[0m\u001b[0;34m\"P(T=0|A=0)=\"\u001b[0m\u001b[0;34m,\u001b[0m \u001b[0mp\u001b[0m\u001b[0;34m,\u001b[0m \u001b[0;34m\"computed with\"\u001b[0m\u001b[0;34m,\u001b[0m \u001b[0mn\u001b[0m\u001b[0;34m,\u001b[0m \u001b[0;34m\"samples\"\u001b[0m\u001b[0;34m)\u001b[0m\u001b[0;34m\u001b[0m\u001b[0;34m\u001b[0m\u001b[0m\n",
      "\u001b[0;32m<ipython-input-21-2015f2a742c5>\u001b[0m in \u001b[0;36mrejection_sampling\u001b[0;34m(self, n_samples, alpha, beta)\u001b[0m\n\u001b[1;32m     17\u001b[0m             \u001b[0;32mif\u001b[0m \u001b[0msample\u001b[0m \u001b[0;32mis\u001b[0m \u001b[0;32mnot\u001b[0m \u001b[0;32mNone\u001b[0m\u001b[0;34m:\u001b[0m\u001b[0;34m\u001b[0m\u001b[0;34m\u001b[0m\u001b[0m\n\u001b[1;32m     18\u001b[0m                 \u001b[0;31m# Let's test if alpha matches s. If it does, increment the count p\u001b[0m\u001b[0;34m\u001b[0m\u001b[0;34m\u001b[0m\u001b[0;34m\u001b[0m\u001b[0m\n\u001b[0;32m---> 19\u001b[0;31m                 \u001b[0;32mif\u001b[0m \u001b[0;34m(\u001b[0m\u001b[0mall\u001b[0m\u001b[0;34m(\u001b[0m\u001b[0mv\u001b[0m \u001b[0;34m==\u001b[0m \u001b[0msample\u001b[0m\u001b[0;34m[\u001b[0m\u001b[0mk\u001b[0m\u001b[0;34m]\u001b[0m \u001b[0;32mfor\u001b[0m \u001b[0mk\u001b[0m\u001b[0;34m,\u001b[0m \u001b[0mv\u001b[0m \u001b[0;32min\u001b[0m \u001b[0malpha\u001b[0m\u001b[0;34m.\u001b[0m\u001b[0mitems\u001b[0m\u001b[0;34m(\u001b[0m\u001b[0;34m)\u001b[0m\u001b[0;34m)\u001b[0m\u001b[0;34m)\u001b[0m\u001b[0;34m:\u001b[0m\u001b[0;34m\u001b[0m\u001b[0;34m\u001b[0m\u001b[0m\n\u001b[0m\u001b[1;32m     20\u001b[0m                     \u001b[0mcount\u001b[0m \u001b[0;34m+=\u001b[0m \u001b[0;36m1\u001b[0m\u001b[0;34m\u001b[0m\u001b[0;34m\u001b[0m\u001b[0m\n\u001b[1;32m     21\u001b[0m                 \u001b[0mn\u001b[0m \u001b[0;34m+=\u001b[0m \u001b[0;36m1\u001b[0m\u001b[0;34m\u001b[0m\u001b[0;34m\u001b[0m\u001b[0m\n",
      "\u001b[0;32m<ipython-input-21-2015f2a742c5>\u001b[0m in \u001b[0;36m<genexpr>\u001b[0;34m(.0)\u001b[0m\n\u001b[1;32m     17\u001b[0m             \u001b[0;32mif\u001b[0m \u001b[0msample\u001b[0m \u001b[0;32mis\u001b[0m \u001b[0;32mnot\u001b[0m \u001b[0;32mNone\u001b[0m\u001b[0;34m:\u001b[0m\u001b[0;34m\u001b[0m\u001b[0;34m\u001b[0m\u001b[0m\n\u001b[1;32m     18\u001b[0m                 \u001b[0;31m# Let's test if alpha matches s. If it does, increment the count p\u001b[0m\u001b[0;34m\u001b[0m\u001b[0;34m\u001b[0m\u001b[0;34m\u001b[0m\u001b[0m\n\u001b[0;32m---> 19\u001b[0;31m                 \u001b[0;32mif\u001b[0m \u001b[0;34m(\u001b[0m\u001b[0mall\u001b[0m\u001b[0;34m(\u001b[0m\u001b[0mv\u001b[0m \u001b[0;34m==\u001b[0m \u001b[0msample\u001b[0m\u001b[0;34m[\u001b[0m\u001b[0mk\u001b[0m\u001b[0;34m]\u001b[0m \u001b[0;32mfor\u001b[0m \u001b[0mk\u001b[0m\u001b[0;34m,\u001b[0m \u001b[0mv\u001b[0m \u001b[0;32min\u001b[0m \u001b[0malpha\u001b[0m\u001b[0;34m.\u001b[0m\u001b[0mitems\u001b[0m\u001b[0;34m(\u001b[0m\u001b[0;34m)\u001b[0m\u001b[0;34m)\u001b[0m\u001b[0;34m)\u001b[0m\u001b[0;34m:\u001b[0m\u001b[0;34m\u001b[0m\u001b[0;34m\u001b[0m\u001b[0m\n\u001b[0m\u001b[1;32m     20\u001b[0m                     \u001b[0mcount\u001b[0m \u001b[0;34m+=\u001b[0m \u001b[0;36m1\u001b[0m\u001b[0;34m\u001b[0m\u001b[0;34m\u001b[0m\u001b[0m\n\u001b[1;32m     21\u001b[0m                 \u001b[0mn\u001b[0m \u001b[0;34m+=\u001b[0m \u001b[0;36m1\u001b[0m\u001b[0;34m\u001b[0m\u001b[0;34m\u001b[0m\u001b[0m\n",
      "\u001b[0;31mTypeError\u001b[0m: 'ellipsis' object is not subscriptable"
     ]
    }
   ],
   "source": [
    "class BayesNet(BayesNet):\n",
    "    def rejection_sampling(self, n_samples, alpha, beta):\n",
    "        '''\n",
    "        This function answers queries like: What is the probability that B=1? Or B=1 and T=0?\n",
    "        `n_samples`: number of samples used to compute the probabilities\n",
    "        `alpha`: The query vars, a dictionary mapping variables to values\n",
    "        `beta`: a dictionary maping variables to values    \n",
    "        return: P(alpha|beta)\n",
    "        '''\n",
    "        # Initialise count. The variable counts the number of samples that agree with alpha \n",
    "        count = 0\n",
    "        # n stores the number of samples that match beta\n",
    "        n = 0\n",
    "        for i in range(n_samples):\n",
    "            # Call simulate to obtain a new assigment according to P(X)\n",
    "            sample = ... # TODO\n",
    "            if sample is not None:\n",
    "                # Let's test if alpha matches s. If it does, increment the count p\n",
    "                if (all(v == sample[k] for k, v in alpha.items())):\n",
    "                    count += 1\n",
    "                n += 1\n",
    "\n",
    "        # If P(beta) is small than we may end up with no samples matching beta. We need to avoid a division by zero here\n",
    "        # This line may be a problem when p(beta) = 0 and p(alpha|beta) is undefined\n",
    "        if n == 0:\n",
    "            return 0,0\n",
    "        return count/n, n\n",
    "\n",
    "\n",
    "random.seed(0)\n",
    "ICU_Net = BayesNet(ICU_Net.graph, ICU_Net.outcomeSpace, ICU_Net.factors)\n",
    "\n",
    "p,n = ICU_Net.rejection_sampling(1000, {'T':0}, {'A':0})\n",
    "print(\"P(T=0|A=0)=\", p, \"computed with\", n, \"samples\")"
   ]
  },
  {
   "cell_type": "code",
   "execution_count": 22,
   "metadata": {},
   "outputs": [
    {
     "name": "stdout",
     "output_type": "stream",
     "text": [
      "P(T=0|A=0)= 0.3021148036253776 computed with 993 samples\n"
     ]
    }
   ],
   "source": [
    "# Answer \n",
    "\n",
    "class BayesNet(BayesNet):\n",
    "    def rejection_sampling(self, n_samples, alpha, beta):\n",
    "        '''\n",
    "        This function answers queries like: What is the probability that B=1? Or B=1 and T=0?\n",
    "        `n_samples`: number of samples used to compute the probabilities\n",
    "        `alpha`: The query vars, a dictionary mapping variables to values\n",
    "        `beta`: a dictionary maping variables to values    \n",
    "        return: P(alpha|beta)\n",
    "        '''\n",
    "        # Initialise count. The variable counts the number of samples that agree with alpha \n",
    "        count = 0\n",
    "        # n stores the number of samples that match beta\n",
    "        n = 0\n",
    "        for i in range(n_samples):\n",
    "            # Call simulate to obtain a new assigment according to P(X)\n",
    "            sample = self.simulate_rejection(beta)\n",
    "            if sample is not None:\n",
    "                # Let's test if alpha matches s. If it does, increment the count p\n",
    "                if (all(v == sample[k] for k, v in alpha.items())):\n",
    "                    count += 1\n",
    "                n += 1\n",
    "\n",
    "        # If P(beta) is small than we may end up with no samples matching beta. We need to avoid a division by zero here\n",
    "        # This line may be a problem when p(beta) = 0 and p(alpha|beta) is undefined\n",
    "        if n == 0:\n",
    "            return 0,0\n",
    "        return count/n, n\n",
    "\n",
    "\n",
    "random.seed(0)\n",
    "ICU_Net = BayesNet(ICU_Net.graph, ICU_Net.outcomeSpace, ICU_Net.factors)\n",
    "\n",
    "p,n = ICU_Net.rejection_sampling(1000, {'T':0}, {'A':0})\n",
    "print(\"P(T=0|A=0)=\", p, \"computed with\", n, \"samples\")"
   ]
  },
  {
   "cell_type": "markdown",
   "metadata": {},
   "source": [
    "If your code is correct, you should see (approximately) the following output:\n",
    "\n",
    "```\n",
    "P(T=0|A=0)= 0.3021148036253776\n",
    "```\n",
    "\n",
    "Now, we can test the rejection sampling to see if it performs well for a large number of queries. We will create random queries as we did for the forward sampling.\n",
    "\n",
    "## Exercise\n",
    "\n",
    "Let's implement `query_generator_posterior_marginal` that will generate random queries with an alpha and beta parts."
   ]
  },
  {
   "cell_type": "code",
   "execution_count": 23,
   "metadata": {
    "scrolled": true
   },
   "outputs": [
    {
     "ename": "AttributeError",
     "evalue": "'ellipsis' object has no attribute 'domain'",
     "output_type": "error",
     "traceback": [
      "\u001b[0;31m---------------------------------------------------------------------------\u001b[0m",
      "\u001b[0;31mAttributeError\u001b[0m                            Traceback (most recent call last)",
      "\u001b[0;32m<ipython-input-23-66e7b7d87f6c>\u001b[0m in \u001b[0;36m<module>\u001b[0;34m\u001b[0m\n\u001b[1;32m     26\u001b[0m \u001b[0mrandom\u001b[0m\u001b[0;34m.\u001b[0m\u001b[0mseed\u001b[0m\u001b[0;34m(\u001b[0m\u001b[0;36m0\u001b[0m\u001b[0;34m)\u001b[0m\u001b[0;34m\u001b[0m\u001b[0;34m\u001b[0m\u001b[0m\n\u001b[1;32m     27\u001b[0m \u001b[0mICU_Net\u001b[0m \u001b[0;34m=\u001b[0m \u001b[0mBayesNet\u001b[0m\u001b[0;34m(\u001b[0m\u001b[0mICU_Net\u001b[0m\u001b[0;34m.\u001b[0m\u001b[0mgraph\u001b[0m\u001b[0;34m,\u001b[0m \u001b[0mICU_Net\u001b[0m\u001b[0;34m.\u001b[0m\u001b[0moutcomeSpace\u001b[0m\u001b[0;34m,\u001b[0m \u001b[0mICU_Net\u001b[0m\u001b[0;34m.\u001b[0m\u001b[0mfactors\u001b[0m\u001b[0;34m)\u001b[0m\u001b[0;34m\u001b[0m\u001b[0;34m\u001b[0m\u001b[0m\n\u001b[0;32m---> 28\u001b[0;31m \u001b[0mresults\u001b[0m \u001b[0;34m=\u001b[0m \u001b[0mquery_generator_posterior_marginal\u001b[0m\u001b[0;34m(\u001b[0m\u001b[0;36m10\u001b[0m\u001b[0;34m,\u001b[0m \u001b[0mICU_Net\u001b[0m\u001b[0;34m)\u001b[0m\u001b[0;34m\u001b[0m\u001b[0;34m\u001b[0m\u001b[0m\n\u001b[0m\u001b[1;32m     29\u001b[0m \u001b[0;32mfor\u001b[0m \u001b[0mr\u001b[0m \u001b[0;32min\u001b[0m \u001b[0mresults\u001b[0m\u001b[0;34m:\u001b[0m\u001b[0;34m\u001b[0m\u001b[0;34m\u001b[0m\u001b[0m\n\u001b[1;32m     30\u001b[0m     \u001b[0mprint\u001b[0m\u001b[0;34m(\u001b[0m\u001b[0;34m\"P(\"\u001b[0m\u001b[0;34m,\u001b[0m\u001b[0mr\u001b[0m\u001b[0;34m[\u001b[0m\u001b[0;34m'query'\u001b[0m\u001b[0;34m]\u001b[0m\u001b[0;34m,\u001b[0m\u001b[0;34m\" | \"\u001b[0m\u001b[0;34m,\u001b[0m\u001b[0mr\u001b[0m\u001b[0;34m[\u001b[0m\u001b[0;34m'evidence'\u001b[0m\u001b[0;34m]\u001b[0m\u001b[0;34m,\u001b[0m\u001b[0;34m\") =\"\u001b[0m\u001b[0;34m,\u001b[0m\u001b[0mr\u001b[0m\u001b[0;34m[\u001b[0m\u001b[0;34m'prob'\u001b[0m\u001b[0;34m]\u001b[0m\u001b[0;34m)\u001b[0m\u001b[0;34m\u001b[0m\u001b[0;34m\u001b[0m\u001b[0m\n",
      "\u001b[0;32m<ipython-input-23-66e7b7d87f6c>\u001b[0m in \u001b[0;36mquery_generator_posterior_marginal\u001b[0;34m(n_queries, bayesNet)\u001b[0m\n\u001b[1;32m     15\u001b[0m         \u001b[0mf\u001b[0m \u001b[0;34m=\u001b[0m \u001b[0;34m...\u001b[0m \u001b[0;31m# TODO\u001b[0m\u001b[0;34m\u001b[0m\u001b[0;34m\u001b[0m\u001b[0m\n\u001b[1;32m     16\u001b[0m         \u001b[0;31m# Prepare the entries to compute the probability\u001b[0m\u001b[0;34m\u001b[0m\u001b[0;34m\u001b[0m\u001b[0;34m\u001b[0m\u001b[0m\n\u001b[0;32m---> 17\u001b[0;31m         \u001b[0mentry\u001b[0m \u001b[0;34m=\u001b[0m \u001b[0mtuple\u001b[0m\u001b[0;34m(\u001b[0m\u001b[0malpha\u001b[0m\u001b[0;34m[\u001b[0m\u001b[0mv\u001b[0m\u001b[0;34m]\u001b[0m \u001b[0;32mfor\u001b[0m \u001b[0mv\u001b[0m \u001b[0;32min\u001b[0m \u001b[0mf\u001b[0m\u001b[0;34m.\u001b[0m\u001b[0mdomain\u001b[0m\u001b[0;34m)\u001b[0m\u001b[0;34m\u001b[0m\u001b[0;34m\u001b[0m\u001b[0m\n\u001b[0m\u001b[1;32m     18\u001b[0m         \u001b[0;31m# Store the results in query_list\u001b[0m\u001b[0;34m\u001b[0m\u001b[0;34m\u001b[0m\u001b[0;34m\u001b[0m\u001b[0m\n\u001b[1;32m     19\u001b[0m         \u001b[0mquery_list\u001b[0m\u001b[0;34m.\u001b[0m\u001b[0mappend\u001b[0m\u001b[0;34m(\u001b[0m\u001b[0;34m{\u001b[0m\u001b[0;34m'query'\u001b[0m\u001b[0;34m:\u001b[0m \u001b[0malpha\u001b[0m\u001b[0;34m,\u001b[0m \u001b[0;34m'evidence'\u001b[0m\u001b[0;34m:\u001b[0m \u001b[0mbeta\u001b[0m\u001b[0;34m,\u001b[0m \u001b[0;34m'prob'\u001b[0m\u001b[0;34m:\u001b[0m \u001b[0mf\u001b[0m\u001b[0;34m[\u001b[0m\u001b[0mentry\u001b[0m\u001b[0;34m]\u001b[0m\u001b[0;34m}\u001b[0m\u001b[0;34m)\u001b[0m\u001b[0;34m\u001b[0m\u001b[0;34m\u001b[0m\u001b[0m\n",
      "\u001b[0;31mAttributeError\u001b[0m: 'ellipsis' object has no attribute 'domain'"
     ]
    }
   ],
   "source": [
    "def query_generator_posterior_marginal(n_queries, bayesNet):\n",
    "    \"\"\"\n",
    "    argument\n",
    "    `n_queries`: number of queries to be created and answered\n",
    "    `factors`: a dictionary will all netowrk factors\n",
    "    return: list of dictionaries with the query and associated probability exactly computed with the VE algorithm\n",
    "    \"\"\"\n",
    "    # query_list starts as an empty list\n",
    "    query_list = []\n",
    "    for i in range(n_queries):\n",
    "        # Assign to alpha a random assignment created by `random_assignment`\n",
    "        alpha = ... # TODO\n",
    "        beta = ... # TODO\n",
    "        # Compute the answer to alpha using VE query function\n",
    "        f = ... # TODO\n",
    "        # Prepare the entries to compute the probability\n",
    "        entry = tuple(alpha[v] for v in f.domain)\n",
    "        # Store the results in query_list\n",
    "        query_list.append({'query': alpha, 'evidence': beta, 'prob': f[entry]})\n",
    "    return query_list\n",
    "\n",
    "\n",
    "################\n",
    "# Test code\n",
    "\n",
    "random.seed(0)\n",
    "ICU_Net = BayesNet(ICU_Net.graph, ICU_Net.outcomeSpace, ICU_Net.factors)\n",
    "results = query_generator_posterior_marginal(10, ICU_Net)\n",
    "for r in results:\n",
    "    print(\"P(\",r['query'],\" | \",r['evidence'],\") =\",r['prob'])"
   ]
  },
  {
   "cell_type": "code",
   "execution_count": 25,
   "metadata": {
    "scrolled": true
   },
   "outputs": [
    {
     "name": "stdout",
     "output_type": "stream",
     "text": [
      "P( {'C': 1, 'H': 1}  |  {'B': 1, 'V': 1} ) = 0.0017515427949926759\n",
      "P( {'V': 0, 'A': 0, 'O': 2}  |  {'C': 0, 'B': 1} ) = 0.0038999772774970264\n",
      "P( {'L': 1}  |  {'A': 1, 'V': 1} ) = 0.048626626363516896\n",
      "P( {'V': 1, 'O': 0, 'B': 2}  |  {'H': 1} ) = 0.000286197784\n",
      "P( {'H': 1, 'O': 0, 'C': 2}  |  {'B': 0, 'L': 0} ) = 0.004353998604346179\n",
      "P( {'A': 1}  |  {'L': 1} ) = 0.009999999999999998\n",
      "P( {'O': 2, 'L': 1, 'A': 0}  |  {'S': 1, 'C': 1, 'V': 0} ) = 0.0011525190754039499\n",
      "P( {'C': 0, 'T': 1, 'S': 0}  |  {'L': 0} ) = 0.0634793472\n",
      "P( {'S': 0, 'O': 2, 'H': 0}  |  {'L': 0} ) = 0.0009439999999999999\n",
      "P( {'B': 2, 'C': 2, 'O': 1}  |  {'L': 1, 'T': 1, 'V': 1} ) = 0.06239792432432433\n"
     ]
    }
   ],
   "source": [
    "# Answer\n",
    "\n",
    "def query_generator_posterior_marginal(n_queries, bayesNet):\n",
    "    \"\"\"\n",
    "    argument\n",
    "    `n_queries`: number of queries to be created and answered\n",
    "    `factors`: a dictionary will all netowrk factors\n",
    "    return: list of dictionaries with the query and associated probability exactly computed with the VE algorithm\n",
    "    \"\"\"\n",
    "    # query_list starts as an empty list\n",
    "    query_list = []\n",
    "    for i in range(n_queries):\n",
    "        # Assign to alpha a random assignment created by `random_assignment`\n",
    "        alpha = random_assignment(bayesNet.outcomeSpace, 3)\n",
    "        beta = random_assignment(bayesNet.outcomeSpace, 3, alpha.keys())\n",
    "        # Compute the answer to alpha using VE query function\n",
    "        f = bayesNet.query(alpha.keys(), **beta)\n",
    "        # Prepare the entries to compute the probability\n",
    "        entry = tuple(alpha[v] for v in f.domain)\n",
    "        # Store the results in query_list\n",
    "        query_list.append({'query': alpha, 'evidence': beta, 'prob': f[entry]})\n",
    "    return query_list\n",
    "\n",
    "\n",
    "################\n",
    "# Test code\n",
    "\n",
    "random.seed(0)\n",
    "ICU_Net = BayesNet(ICU_Net.graph, ICU_Net.outcomeSpace, ICU_Net.factors)\n",
    "results = query_generator_posterior_marginal(10, ICU_Net)\n",
    "for r in results:\n",
    "    print(\"P(\",r['query'],\" | \",r['evidence'],\") =\",r['prob'])"
   ]
  },
  {
   "cell_type": "markdown",
   "metadata": {},
   "source": [
    "If your code is correct, you should see the following output:\n",
    "\n",
    "```\n",
    "P( {'C': 1, 'H': 1}  |  {'B': 1, 'V': 1} ) = 0.0017515427949926759\n",
    "P( {'V': 0, 'A': 0, 'O': 2}  |  {'C': 0, 'B': 1} ) = 0.0038999772774970264\n",
    "P( {'L': 1}  |  {'A': 1, 'V': 1} ) = 0.048626626363516896\n",
    "P( {'V': 1, 'O': 0, 'B': 2}  |  {'H': 1} ) = 0.00028619778399999993\n",
    "P( {'H': 1, 'O': 0, 'C': 2}  |  {'B': 0, 'L': 0} ) = 0.004353998604346179\n",
    "P( {'A': 1}  |  {'L': 1} ) = 0.01\n",
    "P( {'O': 2, 'L': 1, 'A': 0}  |  {'S': 1, 'C': 1, 'V': 0} ) = 0.0011525190754039499\n",
    "P( {'C': 0, 'T': 1, 'S': 0}  |  {'L': 0} ) = 0.0634793472\n",
    "P( {'S': 0, 'O': 2, 'H': 0}  |  {'L': 0} ) = 0.000944\n",
    "P( {'B': 2, 'C': 2, 'O': 1}  |  {'L': 1, 'T': 1, 'V': 1} ) = 0.06239792432432433\n",
    "```\n",
    "\n",
    "Now, we can assess the performance of rejection sampling using a set of random queries. We will use 300 queries in total. The next cell computes the queries and plots the results for VE and rejection sampling."
   ]
  },
  {
   "cell_type": "code",
   "execution_count": 32,
   "metadata": {},
   "outputs": [
    {
     "data": {
      "image/png": "[encoded data removed]",
      "text/plain": [
       "<Figure size 1080x360 with 3 Axes>"
      ]
     },
     "metadata": {
      "needs_background": "light"
     },
     "output_type": "display_data"
    }
   ],
   "source": [
    "random.seed(0)\n",
    "queries = query_generator_posterior_marginal(300, ICU_Net)\n",
    "x = [q['prob'] for q in queries]\n",
    "r_100 = [ICU_Net.rejection_sampling(100, q['query'], q['evidence']) for q in queries]\n",
    "y_100 = [r[0] for r in r_100]\n",
    "plt.figure(figsize=(15, 5))\n",
    "plt.subplot(1,3,1)\n",
    "plt.scatter(x, y_100)\n",
    "plt.title(\"100 samples\")\n",
    "plt.xlabel(\"True probabilities\")\n",
    "plt.ylabel(\"Rejection sampling\")\n",
    "r_500 = [ICU_Net.rejection_sampling(500, q['query'], q['evidence']) for q in queries]\n",
    "y_500 = [r[0] for r in r_500]\n",
    "plt.subplot(1,3,2)\n",
    "plt.scatter(x, y_500)\n",
    "plt.title(\"500 samples\")    \n",
    "plt.xlabel(\"True probabilities\")\n",
    "plt.ylabel(\"Rejection sampling\")\n",
    "r_1000 = [ICU_Net.rejection_sampling(1000, q['query'], q['evidence']) for q in queries]\n",
    "y_1000 = [r[0] for r in r_1000]\n",
    "plt.subplot(1,3,3)\n",
    "plt.scatter(x, y_1000)\n",
    "plt.title(\"1000 samples\")    \n",
    "plt.xlabel(\"True probabilities\")\n",
    "plt.ylabel(\"Rejection sampling\")    \n",
    "plt.show()"
   ]
  },
  {
   "cell_type": "markdown",
   "metadata": {},
   "source": [
    "The results look much worse than the ones we obtained with forward sampling. This illustrates the issue we described in the lectures with the difficulty of sampling from distributions in the form $P(.|\\beta)$. When $P(\\beta)$ is small, we reject many samples, and we may end up with poor estimates.\n",
    "\n",
    "Let's confirm this hypothesis. The next cell computes the same plot, but it associates the size of each point with the number of samples used to calculate the estimate."
   ]
  },
  {
   "cell_type": "code",
   "execution_count": 33,
   "metadata": {
    "scrolled": true
   },
   "outputs": [
    {
     "data": {
      "image/png": "[encoded data removed]",
      "text/plain": [
       "<Figure size 1080x360 with 3 Axes>"
      ]
     },
     "metadata": {
      "needs_background": "light"
     },
     "output_type": "display_data"
    }
   ],
   "source": [
    "random.seed(0)\n",
    "#queries = query_generator_posterior_marginal(300, ICU_Net)\n",
    "x = [q['prob'] for q in queries]\n",
    "#r_100 = [ICU_Net.rejection_sampling(100, q['query'], q['evidence']) for q in queries]\n",
    "#y_100 = [x[0] for x in r_100]\n",
    "w = [x[1]+.1 for x in r_100]                                   # Don't let the zero weight estimates disapper in the plot\n",
    "plt.figure(figsize=(15, 5))\n",
    "plt.subplot(1,3,1)\n",
    "plt.scatter(x, y, s = w)\n",
    "plt.title(\"100 samples\")\n",
    "plt.xlabel(\"True probabilities\")\n",
    "plt.ylabel(\"Rejection sampling\")\n",
    "#r_500 = [ICU_Net.rejection_sampling(500, q['query'], q['evidence']) for q in queries]\n",
    "#y_500 = [x[0] for x in r_500]\n",
    "w = [x[1]+.1 for x in r_500]                                   # Don't let the zero weight estimates disapper in the plot\n",
    "plt.subplot(1,3,2)\n",
    "plt.scatter(x, y, s = w)\n",
    "plt.title(\"500 samples\")    \n",
    "plt.xlabel(\"True probabilities\")\n",
    "plt.ylabel(\"Rejection sampling\")\n",
    "#r_1000 = [ICU_Net.rejection_sampling(1000, q['query'], q['evidence']) for q in queries]\n",
    "#y_1000 = [x[0] for x in r_1000]\n",
    "w = [x[1]+.1 for x in r_1000]                                   # Don't let the zero weight estimates disapper in the plot\n",
    "plt.subplot(1,3,3)\n",
    "plt.scatter(x, y, s = w)\n",
    "plt.title(\"1000 samples\")    \n",
    "plt.xlabel(\"True probabilities\")\n",
    "plt.ylabel(\"Rejection sampling\")    \n",
    "plt.show()"
   ]
  },
  {
   "cell_type": "markdown",
   "metadata": {},
   "source": [
    "Indeed, the poorest estimates are those associated with small sample sizes. Notice the several bad estimates returned zero probability, but the true probability was not zero. These are cases the probability of evidence was tiny, and we ended up with no samples.\n",
    "\n",
    "# Likelihood weighting\n",
    "\n",
    "Let's see if we can do better with likelihood weighting sampling. We need to start by creating a new procedure to simulate the Bayesian network and compute the weights.\n",
    "\n",
    "The procedure is simple. We traverse the network in topological order. If the current node is an evidence variable, then we compute the weight associated with its likelihood. If the current node is not in the evidence set, we sample the variable related to the node.\n",
    "\n",
    "## Exercise\n",
    "\n",
    "Let's implement the function `simulate_BN_likelihood` that simulates the network and computes a sample and its corresponding weight."
   ]
  },
  {
   "cell_type": "code",
   "execution_count": 34,
   "metadata": {},
   "outputs": [
    {
     "ename": "TypeError",
     "evalue": "'ellipsis' object is not iterable",
     "output_type": "error",
     "traceback": [
      "\u001b[0;31m---------------------------------------------------------------------------\u001b[0m",
      "\u001b[0;31mTypeError\u001b[0m                                 Traceback (most recent call last)",
      "\u001b[0;32m<ipython-input-34-df3dd0e924a0>\u001b[0m in \u001b[0;36m<module>\u001b[0;34m\u001b[0m\n\u001b[1;32m     29\u001b[0m \u001b[0mICU_Net\u001b[0m \u001b[0;34m=\u001b[0m \u001b[0mBayesNet\u001b[0m\u001b[0;34m(\u001b[0m\u001b[0mICU_Net\u001b[0m\u001b[0;34m.\u001b[0m\u001b[0mgraph\u001b[0m\u001b[0;34m,\u001b[0m \u001b[0mICU_Net\u001b[0m\u001b[0;34m.\u001b[0m\u001b[0moutcomeSpace\u001b[0m\u001b[0;34m,\u001b[0m \u001b[0mICU_Net\u001b[0m\u001b[0;34m.\u001b[0m\u001b[0mfactors\u001b[0m\u001b[0;34m)\u001b[0m\u001b[0;34m\u001b[0m\u001b[0;34m\u001b[0m\u001b[0m\n\u001b[1;32m     30\u001b[0m \u001b[0mrandom\u001b[0m\u001b[0;34m.\u001b[0m\u001b[0mseed\u001b[0m\u001b[0;34m(\u001b[0m\u001b[0;36m0\u001b[0m\u001b[0;34m)\u001b[0m\u001b[0;34m\u001b[0m\u001b[0;34m\u001b[0m\u001b[0m\n\u001b[0;32m---> 31\u001b[0;31m \u001b[0mprint\u001b[0m\u001b[0;34m(\u001b[0m\u001b[0mICU_Net\u001b[0m\u001b[0;34m.\u001b[0m\u001b[0msimulate_likelihood\u001b[0m\u001b[0;34m(\u001b[0m\u001b[0;34m{\u001b[0m\u001b[0;34m'A'\u001b[0m\u001b[0;34m:\u001b[0m\u001b[0;36m0\u001b[0m\u001b[0;34m}\u001b[0m\u001b[0;34m)\u001b[0m\u001b[0;34m)\u001b[0m\u001b[0;34m\u001b[0m\u001b[0;34m\u001b[0m\u001b[0m\n\u001b[0m",
      "\u001b[0;32m<ipython-input-34-df3dd0e924a0>\u001b[0m in \u001b[0;36msimulate_likelihood\u001b[0;34m(self, beta)\u001b[0m\n\u001b[1;32m     11\u001b[0m         \u001b[0;31m# This is the assignment weight. We start with one and change it for each observed variable\u001b[0m\u001b[0;34m\u001b[0m\u001b[0;34m\u001b[0m\u001b[0;34m\u001b[0m\u001b[0m\n\u001b[1;32m     12\u001b[0m         \u001b[0mw\u001b[0m \u001b[0;34m=\u001b[0m \u001b[0;34m...\u001b[0m \u001b[0;31m# TODO\u001b[0m\u001b[0;34m\u001b[0m\u001b[0;34m\u001b[0m\u001b[0m\n\u001b[0;32m---> 13\u001b[0;31m         \u001b[0;32mfor\u001b[0m \u001b[0mvar\u001b[0m \u001b[0;32min\u001b[0m \u001b[0morder\u001b[0m\u001b[0;34m:\u001b[0m\u001b[0;34m\u001b[0m\u001b[0;34m\u001b[0m\u001b[0m\n\u001b[0m\u001b[1;32m     14\u001b[0m             \u001b[0;32mif\u001b[0m \u001b[0mvar\u001b[0m \u001b[0;32mnot\u001b[0m \u001b[0;32min\u001b[0m \u001b[0mbeta\u001b[0m\u001b[0;34m.\u001b[0m\u001b[0mkeys\u001b[0m\u001b[0;34m(\u001b[0m\u001b[0;34m)\u001b[0m\u001b[0;34m:\u001b[0m\u001b[0;34m\u001b[0m\u001b[0;34m\u001b[0m\u001b[0m\n\u001b[1;32m     15\u001b[0m                 \u001b[0;31m# For the variables NOT in the evidence (beta), we need to sample a value for the variable\u001b[0m\u001b[0;34m\u001b[0m\u001b[0;34m\u001b[0m\u001b[0;34m\u001b[0m\u001b[0m\n",
      "\u001b[0;31mTypeError\u001b[0m: 'ellipsis' object is not iterable"
     ]
    }
   ],
   "source": [
    "class BayesNet(BayesNet):\n",
    "    def simulate_likelihood(self, beta):\n",
    "        \"\"\"\n",
    "        `beta`:  a dictionary that represents an assignment for all evidence variables\n",
    "        return: `sigma`, weight: a dictionary with a complete assigment with all network variables respecting beta and its corresponding weight\n",
    "        \"\"\"\n",
    "        # Call topologicalSort to compute the order we will traverse the network\n",
    "        order = ... # TODO\n",
    "        # sigma is a complete assignment for all network variables. We start with an empty assignment\n",
    "        sigma = {}\n",
    "        # This is the assignment weight. We start with one and change it for each observed variable\n",
    "        w = ... # TODO\n",
    "        for var in order:\n",
    "            if var not in beta.keys():\n",
    "                # For the variables NOT in the evidence (beta), we need to sample a value for the variable\n",
    "                sigma[var] = ... # TODO\n",
    "            else:\n",
    "                # For the variables in the evidence (beta), we need to update the weight\n",
    "                sigma[var] = ... # TODO (use beta to get the value of this var)\n",
    "                entry = tuple(sigma[v] for v in self.factors[var].domain)\n",
    "                w *= self.factors[var][entry]\n",
    "\n",
    "        return sigma, w\n",
    "        \n",
    "\n",
    "####################\n",
    "# Test code\n",
    "\n",
    "ICU_Net = BayesNet(ICU_Net.graph, ICU_Net.outcomeSpace, ICU_Net.factors)\n",
    "random.seed(0)\n",
    "print(ICU_Net.simulate_likelihood({'A':0}))"
   ]
  },
  {
   "cell_type": "code",
   "execution_count": 35,
   "metadata": {},
   "outputs": [
    {
     "name": "stdout",
     "output_type": "stream",
     "text": [
      "({'A': 0, 'T': 1, 'H': 0, 'L': 0, 'V': 1, 'C': 2, 'S': 1, 'O': 2, 'B': 2}, 0.99)\n"
     ]
    }
   ],
   "source": [
    "# Answer\n",
    "\n",
    "class BayesNet(BayesNet):\n",
    "    def simulate_likelihood(self, beta):\n",
    "        \"\"\"\n",
    "        `beta`:  a dictionary that represents an assignment for all evidence variables\n",
    "        return: `sigma`, weight: a dictionary with a complete assigment with all network variables respecting beta and its corresponding weight\n",
    "        \"\"\"\n",
    "        # Call topologicalSort to compute the order we will traverse the network\n",
    "        order = self.graph.topological_sort()\n",
    "        # sigma is a complete assignment for all network variables. We start with an empty assignment\n",
    "        sigma = {}\n",
    "        # This is the assignment weight. We start with one and change it for each observed variable\n",
    "        w = 1\n",
    "        for var in order:\n",
    "            if var not in beta.keys():\n",
    "                # For the variables NOT in the evidence (beta), we need to sample a value for the variable\n",
    "                sigma[var] = self.factors[var].sample_variable(var, **sigma)\n",
    "            else:\n",
    "                # For the variables in the evidence (beta), we need to update the weight\n",
    "                sigma[var] = beta[var]\n",
    "                entry = tuple(sigma[v] for v in self.factors[var].domain)\n",
    "                w *= self.factors[var][entry]\n",
    "\n",
    "        return sigma, w\n",
    "        \n",
    "\n",
    "####################\n",
    "# Test code\n",
    "\n",
    "ICU_Net = BayesNet(ICU_Net.graph, ICU_Net.outcomeSpace, ICU_Net.factors)\n",
    "random.seed(0)\n",
    "print(ICU_Net.simulate_likelihood({'A':0}))"
   ]
  },
  {
   "cell_type": "markdown",
   "metadata": {},
   "source": [
    "If your code is correct, you should see the following output:\n",
    "\n",
    "```\n",
    "({'A': 0, 'T': 1, 'H': 0, 'L': 0, 'V': 1, 'C': 2, 'S': 1, 'O': 2, 'B': 2}, 0.99)\n",
    "```\n",
    "\n",
    "Now, we can implement the `likelihood_weighting` function. This subroutine samples the network by simulating it according to the `simulate_BN_likelihood` procedure. It will be very similar to the code we have developed for the forward and rejection sampling.\n",
    "\n",
    "## Exercise\n",
    "\n",
    "Let's implement the `likelihood_weighting` function that creates `n_samples` samples and estimates the probability according to those samples.\n",
    "\n",
    "Notice that the samples now have weights and we must consider them when we compute the probabilities."
   ]
  },
  {
   "cell_type": "code",
   "execution_count": 36,
   "metadata": {},
   "outputs": [
    {
     "ename": "TypeError",
     "evalue": "cannot unpack non-iterable ellipsis object",
     "output_type": "error",
     "traceback": [
      "\u001b[0;31m---------------------------------------------------------------------------\u001b[0m",
      "\u001b[0;31mTypeError\u001b[0m                                 Traceback (most recent call last)",
      "\u001b[0;32m<ipython-input-36-af2c8ae70070>\u001b[0m in \u001b[0;36m<module>\u001b[0;34m\u001b[0m\n\u001b[1;32m     31\u001b[0m \u001b[0mICU_Net\u001b[0m \u001b[0;34m=\u001b[0m \u001b[0mBayesNet\u001b[0m\u001b[0;34m(\u001b[0m\u001b[0mICU_Net\u001b[0m\u001b[0;34m.\u001b[0m\u001b[0mgraph\u001b[0m\u001b[0;34m,\u001b[0m \u001b[0mICU_Net\u001b[0m\u001b[0;34m.\u001b[0m\u001b[0moutcomeSpace\u001b[0m\u001b[0;34m,\u001b[0m \u001b[0mICU_Net\u001b[0m\u001b[0;34m.\u001b[0m\u001b[0mfactors\u001b[0m\u001b[0;34m)\u001b[0m\u001b[0;34m\u001b[0m\u001b[0;34m\u001b[0m\u001b[0m\n\u001b[1;32m     32\u001b[0m \u001b[0;34m\u001b[0m\u001b[0m\n\u001b[0;32m---> 33\u001b[0;31m \u001b[0mp\u001b[0m\u001b[0;34m,\u001b[0m\u001b[0mw\u001b[0m \u001b[0;34m=\u001b[0m \u001b[0mICU_Net\u001b[0m\u001b[0;34m.\u001b[0m\u001b[0mlikelihood_weighting\u001b[0m\u001b[0;34m(\u001b[0m\u001b[0;36m1000\u001b[0m\u001b[0;34m,\u001b[0m \u001b[0;34m{\u001b[0m\u001b[0;34m'T'\u001b[0m\u001b[0;34m:\u001b[0m\u001b[0;36m0\u001b[0m\u001b[0;34m}\u001b[0m\u001b[0;34m,\u001b[0m \u001b[0;34m{\u001b[0m\u001b[0;34m'A'\u001b[0m\u001b[0;34m:\u001b[0m\u001b[0;36m0\u001b[0m\u001b[0;34m}\u001b[0m\u001b[0;34m)\u001b[0m\u001b[0;34m\u001b[0m\u001b[0;34m\u001b[0m\u001b[0m\n\u001b[0m\u001b[1;32m     34\u001b[0m \u001b[0mprint\u001b[0m\u001b[0;34m(\u001b[0m\u001b[0;34m\"P(T=0|A=0)=\"\u001b[0m\u001b[0;34m,\u001b[0m \u001b[0mp\u001b[0m\u001b[0;34m,\u001b[0m \u001b[0;34m\"computed with weight\"\u001b[0m\u001b[0;34m,\u001b[0m \u001b[0mw\u001b[0m\u001b[0;34m)\u001b[0m\u001b[0;34m\u001b[0m\u001b[0;34m\u001b[0m\u001b[0m\n",
      "\u001b[0;32m<ipython-input-36-af2c8ae70070>\u001b[0m in \u001b[0;36mlikelihood_weighting\u001b[0;34m(self, n_samples, alpha, beta)\u001b[0m\n\u001b[1;32m     14\u001b[0m         \u001b[0;32mfor\u001b[0m \u001b[0mi\u001b[0m \u001b[0;32min\u001b[0m \u001b[0mrange\u001b[0m\u001b[0;34m(\u001b[0m\u001b[0mn_samples\u001b[0m\u001b[0;34m)\u001b[0m\u001b[0;34m:\u001b[0m\u001b[0;34m\u001b[0m\u001b[0;34m\u001b[0m\u001b[0m\n\u001b[1;32m     15\u001b[0m             \u001b[0;31m# Call simulate_BN_likelihood to simulate the Bayesian network according to the likelihood weighting procedure\u001b[0m\u001b[0;34m\u001b[0m\u001b[0;34m\u001b[0m\u001b[0;34m\u001b[0m\u001b[0m\n\u001b[0;32m---> 16\u001b[0;31m             \u001b[0ms\u001b[0m\u001b[0;34m,\u001b[0m \u001b[0mw\u001b[0m \u001b[0;34m=\u001b[0m \u001b[0;34m...\u001b[0m \u001b[0;31m# TODO\u001b[0m\u001b[0;34m\u001b[0m\u001b[0;34m\u001b[0m\u001b[0m\n\u001b[0m\u001b[1;32m     17\u001b[0m             \u001b[0;31m# Check if the sample matches alpha\u001b[0m\u001b[0;34m\u001b[0m\u001b[0;34m\u001b[0m\u001b[0;34m\u001b[0m\u001b[0m\n\u001b[1;32m     18\u001b[0m             \u001b[0;32mif\u001b[0m \u001b[0;34m(\u001b[0m\u001b[0mall\u001b[0m\u001b[0;34m(\u001b[0m\u001b[0mv\u001b[0m \u001b[0;34m==\u001b[0m \u001b[0ms\u001b[0m\u001b[0;34m[\u001b[0m\u001b[0mk\u001b[0m\u001b[0;34m]\u001b[0m \u001b[0;32mfor\u001b[0m \u001b[0mk\u001b[0m\u001b[0;34m,\u001b[0m \u001b[0mv\u001b[0m \u001b[0;32min\u001b[0m \u001b[0malpha\u001b[0m\u001b[0;34m.\u001b[0m\u001b[0mitems\u001b[0m\u001b[0;34m(\u001b[0m\u001b[0;34m)\u001b[0m\u001b[0;34m)\u001b[0m\u001b[0;34m)\u001b[0m\u001b[0;34m:\u001b[0m\u001b[0;34m\u001b[0m\u001b[0;34m\u001b[0m\u001b[0m\n",
      "\u001b[0;31mTypeError\u001b[0m: cannot unpack non-iterable ellipsis object"
     ]
    }
   ],
   "source": [
    "class BayesNet(BayesNet):\n",
    "    def likelihood_weighting(self, n_samples, alpha, beta):\n",
    "        '''\n",
    "        This function answers queries like: What is the probability that B=1? Or B=1 and T=0?\n",
    "        `n_samples`: number of samples used to compute the probabilities\n",
    "        `alpha`: The query vars, a dictionary mapping variables to values\n",
    "        `beta`: a dictionary maping variables to values    \n",
    "        return: P(alpha|beta)\n",
    "        '''\n",
    "        # p stores the sum of weights of samples that match alpha and beta    \n",
    "        p = 0\n",
    "        # n stores the sum of weights of samples that match beta    \n",
    "        n = 0\n",
    "        for i in range(n_samples):\n",
    "            # Call simulate_BN_likelihood to simulate the Bayesian network according to the likelihood weighting procedure        \n",
    "            s, w = ... # TODO\n",
    "            # Check if the sample matches alpha        \n",
    "            if (all(v == s[k] for k, v in alpha.items())):\n",
    "                p += w\n",
    "            n += w\n",
    "        # If P(beta) is small than we may end up with no samples matching beta. We need to avoid a division by zero here\n",
    "        # This line may be a problem when p(beta) = 0 and p(alpha|beta) is undefined        \n",
    "        if n == 0:\n",
    "            return (0, 0)\n",
    "        return p/n, n\n",
    "\n",
    "#####################\n",
    "# Test code\n",
    "\n",
    "random.seed(0)\n",
    "ICU_Net = BayesNet(ICU_Net.graph, ICU_Net.outcomeSpace, ICU_Net.factors)\n",
    "\n",
    "p,w = ICU_Net.likelihood_weighting(1000, {'T':0}, {'A':0})\n",
    "print(\"P(T=0|A=0)=\", p, \"computed with weight\", w)"
   ]
  },
  {
   "cell_type": "code",
   "execution_count": 37,
   "metadata": {},
   "outputs": [
    {
     "name": "stdout",
     "output_type": "stream",
     "text": [
      "P(T=0|A=0)= 0.2879999999999989 computed with weight 990.0000000000076\n"
     ]
    }
   ],
   "source": [
    "# Answer\n",
    "\n",
    "class BayesNet(BayesNet):\n",
    "    def likelihood_weighting(self, n_samples, alpha, beta):\n",
    "        '''\n",
    "        This function answers queries like: What is the probability that B=1? Or B=1 and T=0?\n",
    "        `n_samples`: number of samples used to compute the probabilities\n",
    "        `alpha`: The query vars, a dictionary mapping variables to values\n",
    "        `beta`: a dictionary maping variables to values    \n",
    "        return: P(alpha|beta)\n",
    "        '''\n",
    "        # p stores the sum of weights of samples that match alpha and beta    \n",
    "        p = 0\n",
    "        # n stores the sum of weights of samples that match beta    \n",
    "        n = 0\n",
    "        for i in range(n_samples):\n",
    "            # Call simulate_BN_likelihood to simulate the Bayesian network according to the likelihood weighting procedure        \n",
    "            s, w = self.simulate_likelihood(beta)\n",
    "            # Check if the sample matches alpha        \n",
    "            if (all(v == s[k] for k, v in alpha.items())):\n",
    "                p += w\n",
    "            n += w\n",
    "        # If P(beta) is small than we may end up with no samples matching beta. We need to avoid a division by zero here\n",
    "        # This line may be a problem when p(beta) = 0 and p(alpha|beta) is undefined        \n",
    "        if n == 0:\n",
    "            return (0, 0)\n",
    "        return p/n, n\n",
    "\n",
    "#####################\n",
    "# Test code\n",
    "\n",
    "random.seed(0)\n",
    "ICU_Net = BayesNet(ICU_Net.graph, ICU_Net.outcomeSpace, ICU_Net.factors)\n",
    "\n",
    "p,w = ICU_Net.likelihood_weighting(1000, {'T':0}, {'A':0})\n",
    "print(\"P(T=0|A=0)=\", p, \"computed with weight\", w)"
   ]
  },
  {
   "cell_type": "markdown",
   "metadata": {},
   "source": [
    "If your code is correct, you should see the following output:\n",
    "\n",
    "```\n",
    "P(A=0|T=0)= 0.2879999999999989 computed with weight 990.0000000000076\n",
    "```\n",
    "\n",
    "Now, we have all the tools we need to build several random queries and answer them with likelihood weighting. Let's see how this technique compares to rejection sampling."
   ]
  },
  {
   "cell_type": "code",
   "execution_count": 39,
   "metadata": {},
   "outputs": [
    {
     "data": {
      "image/png": "[encoded data removed]",
      "text/plain": [
       "<Figure size 1080x360 with 3 Axes>"
      ]
     },
     "metadata": {
      "needs_background": "light"
     },
     "output_type": "display_data"
    }
   ],
   "source": [
    "random.seed(0)\n",
    "queries = query_generator_posterior_marginal(300, ICU_Net)\n",
    "x = [q['prob'] for q in queries]\n",
    "l_100 = [ICU_Net.likelihood_weighting(100, q['query'], q['evidence']) for q in queries]\n",
    "y_100 = [l[0] for l in l_100]\n",
    "plt.figure(figsize=(15, 5))\n",
    "plt.subplot(1,3,1)\n",
    "plt.scatter(x, y)\n",
    "plt.title(\"100 samples\")\n",
    "plt.xlabel(\"True probabilities\")\n",
    "plt.ylabel(\"Likelihood weighting\")\n",
    "l_500 = [ICU_Net.likelihood_weighting(500, q['query'], q['evidence']) for q in queries]\n",
    "y_500 = [l[0] for l in l_500]\n",
    "plt.subplot(1,3,2)\n",
    "plt.scatter(x, y_500)\n",
    "plt.title(\"500 samples\")    \n",
    "plt.xlabel(\"True probabilities\")\n",
    "plt.ylabel(\"Likelihood weighting\")\n",
    "l_1000 = [ICU_Net.likelihood_weighting(1000, q['query'], q['evidence']) for q in queries]\n",
    "y_1000 = [l[0] for l in l_1000]\n",
    "plt.subplot(1,3,3)\n",
    "plt.scatter(x, y_1000)\n",
    "plt.title(\"1000 samples\")    \n",
    "plt.xlabel(\"True probabilities\")\n",
    "plt.ylabel(\"Likelihood weighting\")    \n",
    "plt.show()"
   ]
  },
  {
   "cell_type": "markdown",
   "metadata": {},
   "source": [
    "Great! Likelihood weighting is a lot better than rejection sampling. That explains why this technique is so popular and used in several tasks such as robot mapping as we have seen in the lectures.\n",
    "\n",
    "We can make a similar analysis we did with rejection sampling and check if the worst estimates are associated with small weights."
   ]
  },
  {
   "cell_type": "code",
   "execution_count": 40,
   "metadata": {},
   "outputs": [
    {
     "data": {
      "image/png": "[encoded data removed]",
      "text/plain": [
       "<Figure size 1080x360 with 3 Axes>"
      ]
     },
     "metadata": {
      "needs_background": "light"
     },
     "output_type": "display_data"
    }
   ],
   "source": [
    "random.seed(0)\n",
    "#queries = query_generator_posterior_marginal(300, ICU_Net)\n",
    "x = [q['prob'] for q in queries]\n",
    "#l_100 = [ICU_Net.likelihood_weighting(100, q['query'], q['evidence']) for q in queries]\n",
    "#y_100 = [x[0] for x in r_100]\n",
    "w_100 = [x[1]+.1 for x in l_100]                                   # Don't let the zero weight estimates disapper in the plot\n",
    "plt.figure(figsize=(15, 5))\n",
    "plt.subplot(1,3,1)\n",
    "plt.scatter(x, y_100, s = w_100)\n",
    "plt.title(\"100 samples\")\n",
    "plt.xlabel(\"True probabilities\")\n",
    "plt.ylabel(\"Likelihood weighting\")\n",
    "#l_500 = [ICU_Net.likelihood_weighting(500, q['query'], q['evidence']) for q in queries]\n",
    "#y_500 = [x[0] for x in l_500]\n",
    "w_500 = [x[1]+.1 for x in l_500]                                   # Don't let the zero weight estimates disapper in the plot\n",
    "plt.subplot(1,3,2)\n",
    "plt.scatter(x, y_500, s = w_500)\n",
    "plt.title(\"500 samples\")    \n",
    "plt.xlabel(\"True probabilities\")\n",
    "plt.ylabel(\"Likelihood weighting\")\n",
    "#l_1000 = [ICU_Net.likelihood_weighting(1000, q['query'], q['evidence']) for q in queries]\n",
    "#y_1000 = [x[0] for x in l_1000]\n",
    "w_1000 = [x[1]+.1 for x in l_1000]                                   # Don't let the zero weight estimates disapper in the plot\n",
    "plt.subplot(1,3,3)\n",
    "plt.scatter(x, y_1000, s = w_1000)\n",
    "plt.title(\"1000 samples\")    \n",
    "plt.xlabel(\"True probabilities\")\n",
    "plt.ylabel(\"Likelihood weighting\")    \n",
    "plt.show()"
   ]
  },
  {
   "cell_type": "markdown",
   "metadata": {},
   "source": [
    "# Gibbs sampling\n",
    "\n",
    "Gibbs sampling is an algorithm based on Markov chains. The basic idea is that we can create a transition matrix that has as a stationary distribution the distribution induced by the Bayesian or Markov network. If we simulate this chain long enough, we can sample from the chain as if we were sampling from the underlying distribution induced by the network.\n",
    "\n",
    "Gibbs sampling implementation is much more complex than the previous methods. To be an efficient method, we need to implement the inference for the transition matrix carefully.\n",
    "\n",
    "In particular, such inference will involve a reduced number of factors. When sampling a variable $X$ we will need to have access to all factors that mention $X$.\n",
    "\n",
    "We start by creating a graph that we call the *Gibbs graph*. In this graph, a node $X$ has a direct edge to all nodes $Y_i$ in which $X$ appears in the factor associated with $Y_i$.\n",
    "\n",
    "## Exercise\n",
    "\n",
    "Implement the `create_gibbs_graph` function that takes as input a set of factors and outputs a Gibbs graph."
   ]
  },
  {
   "cell_type": "code",
   "execution_count": 41,
   "metadata": {},
   "outputs": [
    {
     "ename": "TypeError",
     "evalue": "'ellipsis' object is not iterable",
     "output_type": "error",
     "traceback": [
      "\u001b[0;31m---------------------------------------------------------------------------\u001b[0m",
      "\u001b[0;31mTypeError\u001b[0m                                 Traceback (most recent call last)",
      "\u001b[0;32m<ipython-input-41-42368582ec8a>\u001b[0m in \u001b[0;36m<module>\u001b[0;34m\u001b[0m\n\u001b[1;32m     32\u001b[0m \u001b[0;34m\u001b[0m\u001b[0m\n\u001b[1;32m     33\u001b[0m \u001b[0mICU_Net\u001b[0m \u001b[0;34m=\u001b[0m \u001b[0mBayesNet\u001b[0m\u001b[0;34m(\u001b[0m\u001b[0mICU_Net\u001b[0m\u001b[0;34m.\u001b[0m\u001b[0mgraph\u001b[0m\u001b[0;34m,\u001b[0m \u001b[0mICU_Net\u001b[0m\u001b[0;34m.\u001b[0m\u001b[0moutcomeSpace\u001b[0m\u001b[0;34m,\u001b[0m \u001b[0mICU_Net\u001b[0m\u001b[0;34m.\u001b[0m\u001b[0mfactors\u001b[0m\u001b[0;34m)\u001b[0m\u001b[0;34m\u001b[0m\u001b[0;34m\u001b[0m\u001b[0m\n\u001b[0;32m---> 34\u001b[0;31m \u001b[0mgg\u001b[0m \u001b[0;34m=\u001b[0m \u001b[0mICU_Net\u001b[0m\u001b[0;34m.\u001b[0m\u001b[0mcreate_gibbs_graph\u001b[0m\u001b[0;34m(\u001b[0m\u001b[0;34m)\u001b[0m\u001b[0;34m\u001b[0m\u001b[0;34m\u001b[0m\u001b[0m\n\u001b[0m\u001b[1;32m     35\u001b[0m \u001b[0mgg\u001b[0m\u001b[0;34m.\u001b[0m\u001b[0mshow\u001b[0m\u001b[0;34m(\u001b[0m\u001b[0mpositions\u001b[0m\u001b[0;34m=\u001b[0m\u001b[0mpos\u001b[0m\u001b[0;34m)\u001b[0m\u001b[0;34m\u001b[0m\u001b[0;34m\u001b[0m\u001b[0m\n",
      "\u001b[0;32m<ipython-input-41-42368582ec8a>\u001b[0m in \u001b[0;36mcreate_gibbs_graph\u001b[0;34m(self)\u001b[0m\n\u001b[1;32m      8\u001b[0m         \u001b[0;31m# create a deepcopy of this network graph\u001b[0m\u001b[0;34m\u001b[0m\u001b[0;34m\u001b[0m\u001b[0;34m\u001b[0m\u001b[0m\n\u001b[1;32m      9\u001b[0m         \u001b[0mgg\u001b[0m \u001b[0;34m=\u001b[0m \u001b[0;34m...\u001b[0m \u001b[0;31m# TODO\u001b[0m\u001b[0;34m\u001b[0m\u001b[0;34m\u001b[0m\u001b[0m\n\u001b[0;32m---> 10\u001b[0;31m         \u001b[0;32mfor\u001b[0m \u001b[0mvar\u001b[0m \u001b[0;32min\u001b[0m \u001b[0mgg\u001b[0m\u001b[0;34m:\u001b[0m\u001b[0;34m\u001b[0m\u001b[0;34m\u001b[0m\u001b[0m\n\u001b[0m\u001b[1;32m     11\u001b[0m             \u001b[0;34m...\u001b[0m \u001b[0;31m# add an edge from this node to itself\u001b[0m\u001b[0;34m\u001b[0m\u001b[0;34m\u001b[0m\u001b[0m\n\u001b[1;32m     12\u001b[0m         \u001b[0;32mreturn\u001b[0m \u001b[0mgg\u001b[0m\u001b[0;34m\u001b[0m\u001b[0;34m\u001b[0m\u001b[0m\n",
      "\u001b[0;31mTypeError\u001b[0m: 'ellipsis' object is not iterable"
     ]
    }
   ],
   "source": [
    "import copy\n",
    "class BayesNet(BayesNet):\n",
    "    def create_gibbs_graph(self):\n",
    "        \"\"\"\n",
    "        argument \n",
    "        Returns an Graph object of the Gibbs graph\n",
    "        \"\"\"        \n",
    "        # create a deepcopy of this network graph\n",
    "        gg = ... # TODO\n",
    "        for var in gg:\n",
    "            ... # add an edge from this node to itself\n",
    "        return gg\n",
    "\n",
    "\n",
    "##############\n",
    "# Test code\n",
    "\n",
    "# List of positions for each node\n",
    "# We use node positions to replicate the previous figure\n",
    "# This can be removed if the nodes do not need to be presented in a specific order\n",
    "pos = {\n",
    "    'B': '1,0!',\n",
    "    'O': '0,1!',\n",
    "    'C': '1,1!',\n",
    "    'T': '2,1!',\n",
    "    'S': '0,2!',\n",
    "    'V': '1,2!',\n",
    "    'A': '2,2!',\n",
    "    'L': '0,3!',\n",
    "    'H': '1,3!',\n",
    "}\n",
    "\n",
    "ICU_Net = BayesNet(ICU_Net.graph, ICU_Net.outcomeSpace, ICU_Net.factors)\n",
    "gg = ICU_Net.create_gibbs_graph()\n",
    "gg.show(positions=pos)"
   ]
  },
  {
   "cell_type": "code",
   "execution_count": 42,
   "metadata": {},
   "outputs": [
    {
     "data": {
      "image/svg+xml": [
       "<?xml version=\"1.0\" encoding=\"UTF-8\" standalone=\"no\"?>\n",
       "<!DOCTYPE svg PUBLIC \"-//W3C//DTD SVG 1.1//EN\"\n",
       " \"http://www.w3.org/Graphics/SVG/1.1/DTD/svg11.dtd\">\n",
       "<!-- Generated by graphviz version 2.43.0 (0)\n",
       " -->\n",
       "<!-- Title: %3 Pages: 1 -->\n",
       "<svg width=\"204pt\" height=\"230pt\"\n",
       " viewBox=\"0.00 0.00 204.01 230.02\" xmlns=\"http://www.w3.org/2000/svg\" xmlns:xlink=\"http://www.w3.org/1999/xlink\">\n",
       "<g id=\"graph0\" class=\"graph\" transform=\"scale(1 1) rotate(0) translate(4 226.02)\">\n",
       "<title>%3</title>\n",
       "<polygon fill=\"white\" stroke=\"transparent\" points=\"-4,4 -4,-226.02 200.01,-226.02 200.01,4 -4,4\"/>\n",
       "<!-- L -->\n",
       "<g id=\"node1\" class=\"node\">\n",
       "<title>L</title>\n",
       "<ellipse fill=\"none\" stroke=\"black\" cx=\"27\" cy=\"-204.02\" rx=\"27\" ry=\"18\"/>\n",
       "<text text-anchor=\"middle\" x=\"27\" y=\"-200.32\" font-family=\"Times,serif\" font-size=\"14.00\">L</text>\n",
       "</g>\n",
       "<!-- L&#45;&gt;L -->\n",
       "<g id=\"edge3\" class=\"edge\">\n",
       "<title>L&#45;&gt;L</title>\n",
       "<path fill=\"none\" stroke=\"black\" d=\"M52.44,-210.71C63.03,-211.17 72,-208.94 72,-204.02 72,-200.79 68.14,-198.72 62.49,-197.81\"/>\n",
       "<polygon fill=\"black\" stroke=\"black\" points=\"62.6,-194.31 52.44,-197.33 62.27,-201.3 62.6,-194.31\"/>\n",
       "</g>\n",
       "<!-- S -->\n",
       "<g id=\"node3\" class=\"node\">\n",
       "<title>S</title>\n",
       "<ellipse fill=\"none\" stroke=\"black\" cx=\"27\" cy=\"-142.01\" rx=\"27\" ry=\"18\"/>\n",
       "<text text-anchor=\"middle\" x=\"27\" y=\"-138.31\" font-family=\"Times,serif\" font-size=\"14.00\">S</text>\n",
       "</g>\n",
       "<!-- L&#45;&gt;S -->\n",
       "<g id=\"edge1\" class=\"edge\">\n",
       "<title>L&#45;&gt;S</title>\n",
       "<path fill=\"none\" stroke=\"black\" d=\"M27,-185.75C27,-181 27,-175.76 27,-170.62\"/>\n",
       "<polygon fill=\"black\" stroke=\"black\" points=\"30.5,-170.36 27,-160.36 23.5,-170.36 30.5,-170.36\"/>\n",
       "</g>\n",
       "<!-- V -->\n",
       "<g id=\"node4\" class=\"node\">\n",
       "<title>V</title>\n",
       "<ellipse fill=\"none\" stroke=\"black\" cx=\"89.01\" cy=\"-142.01\" rx=\"27\" ry=\"18\"/>\n",
       "<text text-anchor=\"middle\" x=\"89.01\" y=\"-138.31\" font-family=\"Times,serif\" font-size=\"14.00\">V</text>\n",
       "</g>\n",
       "<!-- L&#45;&gt;V -->\n",
       "<g id=\"edge2\" class=\"edge\">\n",
       "<title>L&#45;&gt;V</title>\n",
       "<path fill=\"none\" stroke=\"black\" d=\"M42.01,-189.01C49.36,-181.65 58.37,-172.65 66.53,-164.49\"/>\n",
       "<polygon fill=\"black\" stroke=\"black\" points=\"69.11,-166.86 73.7,-157.31 64.16,-161.91 69.11,-166.86\"/>\n",
       "</g>\n",
       "<!-- H -->\n",
       "<g id=\"node2\" class=\"node\">\n",
       "<title>H</title>\n",
       "<ellipse fill=\"none\" stroke=\"black\" cx=\"89.01\" cy=\"-204.02\" rx=\"27\" ry=\"18\"/>\n",
       "<text text-anchor=\"middle\" x=\"89.01\" y=\"-200.32\" font-family=\"Times,serif\" font-size=\"14.00\">H</text>\n",
       "</g>\n",
       "<!-- H&#45;&gt;H -->\n",
       "<g id=\"edge6\" class=\"edge\">\n",
       "<title>H&#45;&gt;H</title>\n",
       "<path fill=\"none\" stroke=\"black\" d=\"M114.45,-210.71C125.03,-211.17 134.01,-208.94 134.01,-204.02 134.01,-200.79 130.14,-198.72 124.49,-197.81\"/>\n",
       "<polygon fill=\"black\" stroke=\"black\" points=\"124.6,-194.31 114.45,-197.33 124.27,-201.3 124.6,-194.31\"/>\n",
       "</g>\n",
       "<!-- H&#45;&gt;S -->\n",
       "<g id=\"edge4\" class=\"edge\">\n",
       "<title>H&#45;&gt;S</title>\n",
       "<path fill=\"none\" stroke=\"black\" d=\"M74,-189.01C66.64,-181.65 57.63,-172.65 49.48,-164.49\"/>\n",
       "<polygon fill=\"black\" stroke=\"black\" points=\"51.85,-161.91 42.3,-157.31 46.9,-166.86 51.85,-161.91\"/>\n",
       "</g>\n",
       "<!-- H&#45;&gt;V -->\n",
       "<g id=\"edge5\" class=\"edge\">\n",
       "<title>H&#45;&gt;V</title>\n",
       "<path fill=\"none\" stroke=\"black\" d=\"M89.01,-185.75C89.01,-181 89.01,-175.76 89.01,-170.62\"/>\n",
       "<polygon fill=\"black\" stroke=\"black\" points=\"92.51,-170.36 89.01,-160.36 85.51,-170.36 92.51,-170.36\"/>\n",
       "</g>\n",
       "<!-- S&#45;&gt;S -->\n",
       "<g id=\"edge8\" class=\"edge\">\n",
       "<title>S&#45;&gt;S</title>\n",
       "<path fill=\"none\" stroke=\"black\" d=\"M52.44,-148.7C63.03,-149.16 72,-146.93 72,-142.01 72,-138.78 68.14,-136.71 62.49,-135.8\"/>\n",
       "<polygon fill=\"black\" stroke=\"black\" points=\"62.6,-132.3 52.44,-135.32 62.27,-139.29 62.6,-132.3\"/>\n",
       "</g>\n",
       "<!-- O -->\n",
       "<g id=\"node5\" class=\"node\">\n",
       "<title>O</title>\n",
       "<ellipse fill=\"none\" stroke=\"black\" cx=\"27\" cy=\"-80.01\" rx=\"27\" ry=\"18\"/>\n",
       "<text text-anchor=\"middle\" x=\"27\" y=\"-76.31\" font-family=\"Times,serif\" font-size=\"14.00\">O</text>\n",
       "</g>\n",
       "<!-- S&#45;&gt;O -->\n",
       "<g id=\"edge7\" class=\"edge\">\n",
       "<title>S&#45;&gt;O</title>\n",
       "<path fill=\"none\" stroke=\"black\" d=\"M27,-123.74C27,-118.99 27,-113.76 27,-108.61\"/>\n",
       "<polygon fill=\"black\" stroke=\"black\" points=\"30.5,-108.36 27,-98.36 23.5,-108.36 30.5,-108.36\"/>\n",
       "</g>\n",
       "<!-- V&#45;&gt;V -->\n",
       "<g id=\"edge11\" class=\"edge\">\n",
       "<title>V&#45;&gt;V</title>\n",
       "<path fill=\"none\" stroke=\"black\" d=\"M114.45,-148.7C125.03,-149.16 134.01,-146.93 134.01,-142.01 134.01,-138.78 130.14,-136.71 124.49,-135.8\"/>\n",
       "<polygon fill=\"black\" stroke=\"black\" points=\"124.6,-132.3 114.45,-135.32 124.27,-139.29 124.6,-132.3\"/>\n",
       "</g>\n",
       "<!-- V&#45;&gt;O -->\n",
       "<g id=\"edge10\" class=\"edge\">\n",
       "<title>V&#45;&gt;O</title>\n",
       "<path fill=\"none\" stroke=\"black\" d=\"M74,-127C66.64,-119.65 57.63,-110.64 49.48,-102.49\"/>\n",
       "<polygon fill=\"black\" stroke=\"black\" points=\"51.85,-99.9 42.3,-95.31 46.9,-104.85 51.85,-99.9\"/>\n",
       "</g>\n",
       "<!-- C -->\n",
       "<g id=\"node8\" class=\"node\">\n",
       "<title>C</title>\n",
       "<ellipse fill=\"none\" stroke=\"black\" cx=\"89.01\" cy=\"-80.01\" rx=\"27\" ry=\"18\"/>\n",
       "<text text-anchor=\"middle\" x=\"89.01\" y=\"-76.31\" font-family=\"Times,serif\" font-size=\"14.00\">C</text>\n",
       "</g>\n",
       "<!-- V&#45;&gt;C -->\n",
       "<g id=\"edge9\" class=\"edge\">\n",
       "<title>V&#45;&gt;C</title>\n",
       "<path fill=\"none\" stroke=\"black\" d=\"M89.01,-123.74C89.01,-118.99 89.01,-113.76 89.01,-108.61\"/>\n",
       "<polygon fill=\"black\" stroke=\"black\" points=\"92.51,-108.36 89.01,-98.36 85.51,-108.36 92.51,-108.36\"/>\n",
       "</g>\n",
       "<!-- O&#45;&gt;O -->\n",
       "<g id=\"edge13\" class=\"edge\">\n",
       "<title>O&#45;&gt;O</title>\n",
       "<path fill=\"none\" stroke=\"black\" d=\"M52.44,-86.7C63.03,-87.16 72,-84.93 72,-80.01 72,-76.78 68.14,-74.71 62.49,-73.79\"/>\n",
       "<polygon fill=\"black\" stroke=\"black\" points=\"62.6,-70.3 52.44,-73.32 62.27,-77.29 62.6,-70.3\"/>\n",
       "</g>\n",
       "<!-- B -->\n",
       "<g id=\"node9\" class=\"node\">\n",
       "<title>B</title>\n",
       "<ellipse fill=\"none\" stroke=\"black\" cx=\"89.01\" cy=\"-18\" rx=\"27\" ry=\"18\"/>\n",
       "<text text-anchor=\"middle\" x=\"89.01\" y=\"-14.3\" font-family=\"Times,serif\" font-size=\"14.00\">B</text>\n",
       "</g>\n",
       "<!-- O&#45;&gt;B -->\n",
       "<g id=\"edge12\" class=\"edge\">\n",
       "<title>O&#45;&gt;B</title>\n",
       "<path fill=\"none\" stroke=\"black\" d=\"M42.01,-65C49.36,-57.64 58.37,-48.63 66.53,-40.48\"/>\n",
       "<polygon fill=\"black\" stroke=\"black\" points=\"69.11,-42.85 73.7,-33.3 64.16,-37.9 69.11,-42.85\"/>\n",
       "</g>\n",
       "<!-- A -->\n",
       "<g id=\"node6\" class=\"node\">\n",
       "<title>A</title>\n",
       "<ellipse fill=\"none\" stroke=\"black\" cx=\"151.01\" cy=\"-142.01\" rx=\"27\" ry=\"18\"/>\n",
       "<text text-anchor=\"middle\" x=\"151.01\" y=\"-138.31\" font-family=\"Times,serif\" font-size=\"14.00\">A</text>\n",
       "</g>\n",
       "<!-- A&#45;&gt;A -->\n",
       "<g id=\"edge15\" class=\"edge\">\n",
       "<title>A&#45;&gt;A</title>\n",
       "<path fill=\"none\" stroke=\"black\" d=\"M176.46,-148.7C187.04,-149.16 196.01,-146.93 196.01,-142.01 196.01,-138.78 192.15,-136.71 186.5,-135.8\"/>\n",
       "<polygon fill=\"black\" stroke=\"black\" points=\"186.61,-132.3 176.46,-135.32 186.28,-139.29 186.61,-132.3\"/>\n",
       "</g>\n",
       "<!-- T -->\n",
       "<g id=\"node7\" class=\"node\">\n",
       "<title>T</title>\n",
       "<ellipse fill=\"none\" stroke=\"black\" cx=\"151.01\" cy=\"-80.01\" rx=\"27\" ry=\"18\"/>\n",
       "<text text-anchor=\"middle\" x=\"151.01\" y=\"-76.31\" font-family=\"Times,serif\" font-size=\"14.00\">T</text>\n",
       "</g>\n",
       "<!-- A&#45;&gt;T -->\n",
       "<g id=\"edge14\" class=\"edge\">\n",
       "<title>A&#45;&gt;T</title>\n",
       "<path fill=\"none\" stroke=\"black\" d=\"M151.01,-123.74C151.01,-118.99 151.01,-113.76 151.01,-108.61\"/>\n",
       "<polygon fill=\"black\" stroke=\"black\" points=\"154.51,-108.36 151.01,-98.36 147.51,-108.36 154.51,-108.36\"/>\n",
       "</g>\n",
       "<!-- T&#45;&gt;T -->\n",
       "<g id=\"edge17\" class=\"edge\">\n",
       "<title>T&#45;&gt;T</title>\n",
       "<path fill=\"none\" stroke=\"black\" d=\"M176.46,-86.7C187.04,-87.16 196.01,-84.93 196.01,-80.01 196.01,-76.78 192.15,-74.71 186.5,-73.79\"/>\n",
       "<polygon fill=\"black\" stroke=\"black\" points=\"186.61,-70.3 176.46,-73.32 186.28,-77.29 186.61,-70.3\"/>\n",
       "</g>\n",
       "<!-- T&#45;&gt;B -->\n",
       "<g id=\"edge16\" class=\"edge\">\n",
       "<title>T&#45;&gt;B</title>\n",
       "<path fill=\"none\" stroke=\"black\" d=\"M136,-65C128.65,-57.64 119.64,-48.63 111.49,-40.48\"/>\n",
       "<polygon fill=\"black\" stroke=\"black\" points=\"113.85,-37.9 104.31,-33.3 108.9,-42.85 113.85,-37.9\"/>\n",
       "</g>\n",
       "<!-- C&#45;&gt;C -->\n",
       "<g id=\"edge18\" class=\"edge\">\n",
       "<title>C&#45;&gt;C</title>\n",
       "<path fill=\"none\" stroke=\"black\" d=\"M114.45,-86.7C125.03,-87.16 134.01,-84.93 134.01,-80.01 134.01,-76.78 130.14,-74.71 124.49,-73.79\"/>\n",
       "<polygon fill=\"black\" stroke=\"black\" points=\"124.6,-70.3 114.45,-73.32 124.27,-77.29 124.6,-70.3\"/>\n",
       "</g>\n",
       "<!-- B&#45;&gt;B -->\n",
       "<g id=\"edge19\" class=\"edge\">\n",
       "<title>B&#45;&gt;B</title>\n",
       "<path fill=\"none\" stroke=\"black\" d=\"M114.45,-24.69C125.03,-25.15 134.01,-22.92 134.01,-18 134.01,-14.77 130.14,-12.7 124.49,-11.79\"/>\n",
       "<polygon fill=\"black\" stroke=\"black\" points=\"124.6,-8.29 114.45,-11.31 124.27,-15.28 124.6,-8.29\"/>\n",
       "</g>\n",
       "</g>\n",
       "</svg>\n"
      ],
      "text/plain": [
       "<graphviz.dot.Digraph at 0x7fca20f291f0>"
      ]
     },
     "execution_count": 42,
     "metadata": {},
     "output_type": "execute_result"
    }
   ],
   "source": [
    "# Answer\n",
    "import copy\n",
    "class BayesNet(BayesNet):\n",
    "    def create_gibbs_graph(self):\n",
    "        \"\"\"\n",
    "        argument \n",
    "        Returns an Graph object of the Gibbs graph\n",
    "        \"\"\"        \n",
    "        # create a copy of this network's graph\n",
    "        gg = copy.deepcopy(self.graph)\n",
    "        for var in gg:\n",
    "            gg.add_edge(var, var)\n",
    "        return gg\n",
    "\n",
    "\n",
    "##############\n",
    "# Test code\n",
    "\n",
    "# List of positions for each node\n",
    "# We use node positions to replicate the previous figure\n",
    "# This can be removed if the nodes do not need to be presented in a specific order\n",
    "pos = {\n",
    "    'B': '1,0!',\n",
    "    'O': '0,1!',\n",
    "    'C': '1,1!',\n",
    "    'T': '2,1!',\n",
    "    'S': '0,2!',\n",
    "    'V': '1,2!',\n",
    "    'A': '2,2!',\n",
    "    'L': '0,3!',\n",
    "    'H': '1,3!',\n",
    "}\n",
    "\n",
    "ICU_Net = BayesNet(ICU_Net.graph, ICU_Net.outcomeSpace, ICU_Net.factors)\n",
    "gg = ICU_Net.create_gibbs_graph()\n",
    "gg.show(positions=pos)"
   ]
  },
  {
   "cell_type": "markdown",
   "metadata": {},
   "source": [
    "If your output is correct, you should generate the following graph.\n",
    "\n",
    "![Gibbs graph](img/GG.png)\n",
    "\n",
    "The Gibbs graph tells us that the factors that mention, for example, $H$ are in nodes $H$, $S$ and $V$. Therefore, we will need to multiply these factors to sample the variable $H$.\n",
    "\n",
    "Before we implement the Gibbs transition, we need to remember that Markov chain Monte Carlo (MCMC) methods work with complete assignments. We will need a helper function that creates a complete assignment."
   ]
  },
  {
   "cell_type": "code",
   "execution_count": 43,
   "metadata": {},
   "outputs": [
    {
     "name": "stdout",
     "output_type": "stream",
     "text": [
      "{'H': 1, 'L': 1, 'A': 0, 'V': 1, 'S': 1, 'T': 1, 'C': 1, 'O': 1, 'B': 1}\n"
     ]
    }
   ],
   "source": [
    "class BayesNet(BayesNet):\n",
    "    def complete_assignment(self, exclude = []):\n",
    "        return { v : random.choice(outcomeSpace[v]) for v in outcomeSpace.keys() if v not in exclude}\n",
    "\n",
    "\n",
    "#####################\n",
    "# Test code\n",
    "\n",
    "random.seed(0)\n",
    "ICU_Net = BayesNet(ICU_Net.graph, ICU_Net.outcomeSpace, ICU_Net.factors)\n",
    "alpha = ICU_Net.complete_assignment()\n",
    "print(alpha)"
   ]
  },
  {
   "cell_type": "markdown",
   "metadata": {},
   "source": [
    "Now, we will implement a `GibbsSampler` class with a `gibbs_transition` function. In some sense, it is similar to simulating the network. The main differences are:\n",
    "\n",
    "1. We will work with complete assignments, instead of building one from scratch. \n",
    "2. There is no need to traverse the network in any specific order.\n",
    "3. Each time we sample a variable, we will choose the variable randomly from the set of all non-evidence variables in the network.\n",
    "4. The sampling process will involve an inference step. The previous sampling methods we discussed were more straightforward since we used conditional probabilities already available in the network parameters.\n",
    "\n",
    "The main challenge is to implement the inference step efficiently. We will use the Gibbs graph to help us to identify the relevant factors correctly.\n",
    "\n",
    "## Exercise\n",
    "\n",
    "Implement the `__init__` and `gibbs_transition` function. The transition function takes the state as input, chooses one variable randomly with uniform distribution and samples a new value for this variable according to the Gibbs transition."
   ]
  },
  {
   "cell_type": "code",
   "execution_count": 44,
   "metadata": {},
   "outputs": [
    {
     "name": "stdout",
     "output_type": "stream",
     "text": [
      "{'H': 0, 'A': 1, 'V': 1, 'S': 1, 'T': 0, 'B': 1, 'L': 1, 'O': 0, 'C': 0}\n"
     ]
    },
    {
     "ename": "TypeError",
     "evalue": "unsupported operand type(s) for *: 'float' and 'ellipsis'",
     "output_type": "error",
     "traceback": [
      "\u001b[0;31m---------------------------------------------------------------------------\u001b[0m",
      "\u001b[0;31mTypeError\u001b[0m                                 Traceback (most recent call last)",
      "\u001b[0;32m<ipython-input-44-0bab99628108>\u001b[0m in \u001b[0;36m<module>\u001b[0;34m\u001b[0m\n\u001b[1;32m     46\u001b[0m \u001b[0msampler\u001b[0m \u001b[0;34m=\u001b[0m \u001b[0mGibbsSampler\u001b[0m\u001b[0;34m(\u001b[0m\u001b[0mICU_Net\u001b[0m\u001b[0;34m,\u001b[0m \u001b[0mbeta\u001b[0m\u001b[0;34m)\u001b[0m\u001b[0;34m\u001b[0m\u001b[0;34m\u001b[0m\u001b[0m\n\u001b[1;32m     47\u001b[0m \u001b[0mprint\u001b[0m\u001b[0;34m(\u001b[0m\u001b[0msampler\u001b[0m\u001b[0;34m.\u001b[0m\u001b[0mstate\u001b[0m\u001b[0;34m)\u001b[0m\u001b[0;34m\u001b[0m\u001b[0;34m\u001b[0m\u001b[0m\n\u001b[0;32m---> 48\u001b[0;31m \u001b[0msampler\u001b[0m\u001b[0;34m.\u001b[0m\u001b[0mgibbs_transition\u001b[0m\u001b[0;34m(\u001b[0m\u001b[0;34m)\u001b[0m\u001b[0;34m\u001b[0m\u001b[0;34m\u001b[0m\u001b[0m\n\u001b[0m\u001b[1;32m     49\u001b[0m \u001b[0mprint\u001b[0m\u001b[0;34m(\u001b[0m\u001b[0msampler\u001b[0m\u001b[0;34m.\u001b[0m\u001b[0mstate\u001b[0m\u001b[0;34m)\u001b[0m\u001b[0;34m\u001b[0m\u001b[0;34m\u001b[0m\u001b[0m\n",
      "\u001b[0;32m<ipython-input-44-0bab99628108>\u001b[0m in \u001b[0;36mgibbs_transition\u001b[0;34m(self)\u001b[0m\n\u001b[1;32m     29\u001b[0m                 \u001b[0mentry\u001b[0m \u001b[0;34m=\u001b[0m \u001b[0mtuple\u001b[0m\u001b[0;34m(\u001b[0m\u001b[0mself\u001b[0m\u001b[0;34m.\u001b[0m\u001b[0mstate\u001b[0m\u001b[0;34m[\u001b[0m\u001b[0mv\u001b[0m\u001b[0;34m]\u001b[0m \u001b[0;32mfor\u001b[0m \u001b[0mv\u001b[0m \u001b[0;32min\u001b[0m \u001b[0mself\u001b[0m\u001b[0;34m.\u001b[0m\u001b[0mbayesNet\u001b[0m\u001b[0;34m.\u001b[0m\u001b[0mfactors\u001b[0m\u001b[0;34m[\u001b[0m\u001b[0mvar\u001b[0m\u001b[0;34m]\u001b[0m\u001b[0;34m.\u001b[0m\u001b[0mdomain\u001b[0m\u001b[0;34m)\u001b[0m\u001b[0;34m\u001b[0m\u001b[0;34m\u001b[0m\u001b[0m\n\u001b[1;32m     30\u001b[0m                 \u001b[0;31m# Multiply the probabilities in the relevant factors\u001b[0m\u001b[0;34m\u001b[0m\u001b[0;34m\u001b[0m\u001b[0;34m\u001b[0m\u001b[0m\n\u001b[0;32m---> 31\u001b[0;31m                 \u001b[0mgibbs_factor\u001b[0m\u001b[0;34m[\u001b[0m\u001b[0mvalue\u001b[0m\u001b[0;34m]\u001b[0m \u001b[0;34m*=\u001b[0m \u001b[0;34m...\u001b[0m \u001b[0;31m# TODO\u001b[0m\u001b[0;34m\u001b[0m\u001b[0;34m\u001b[0m\u001b[0m\n\u001b[0m\u001b[1;32m     32\u001b[0m         \u001b[0;31m# Renormalize the gibbs_factor, so we probabilities sum to one and we can sample a value for X\u001b[0m\u001b[0;34m\u001b[0m\u001b[0;34m\u001b[0m\u001b[0;34m\u001b[0m\u001b[0m\n\u001b[1;32m     33\u001b[0m         \u001b[0mgibbs_factor\u001b[0m \u001b[0;34m=\u001b[0m \u001b[0;34m...\u001b[0m \u001b[0;31m# TODO\u001b[0m\u001b[0;34m\u001b[0m\u001b[0;34m\u001b[0m\u001b[0m\n",
      "\u001b[0;31mTypeError\u001b[0m: unsupported operand type(s) for *: 'float' and 'ellipsis'"
     ]
    }
   ],
   "source": [
    "class GibbsSampler():\n",
    "    def __init__(self, bayesNet, beta):\n",
    "        self.bayesNet = bayesNet\n",
    "        self.beta = beta\n",
    "        self.gibbs_graph = bayesNet.create_gibbs_graph()\n",
    "        self.outcomeSpace = list(bayesNet.factors.values())[0].outcomeSpace\n",
    "\n",
    "        # initialise state\n",
    "        self.state = bayesNet.complete_assignment(beta)\n",
    "        self.state.update(beta)\n",
    "\n",
    "\n",
    "    def gibbs_transition(self):\n",
    "        # These are the non-evidence variables in the network. We will sample from this list\n",
    "        not_ev_vars = [v for v in self.outcomeSpace.keys() if v not in self.beta.keys()]\n",
    "        # Randomly sample one variable with uniform distribution\n",
    "        X = random.choice(not_ev_vars)\n",
    "        # Create an empty factor that we will use to store our inference results\n",
    "        gibbs_factor = Factor((X,), self.outcomeSpace)\n",
    "        for value in self.outcomeSpace[X]:\n",
    "            # Let's use the Gibbs graph to see which factors we need to multiply\n",
    "            for var in self.gibbs_graph.children(X):\n",
    "                # IMPORTANT: instead of call join and multiply all factors, we will only multiply the entries compatible with evidence\n",
    "                # Remember we are working with complete assignments. See the lecture about classification with graphical models for details\n",
    "                \n",
    "                # Assign a value to variable X in the state\n",
    "                self.state[X] = value\n",
    "                # Compute the entry to retrieve the probability \n",
    "                entry = tuple(self.state[v] for v in self.bayesNet.factors[var].domain)\n",
    "                # Multiply the probabilities in the relevant factors\n",
    "                gibbs_factor[value] *= ... # TODO\n",
    "        # Renormalize the gibbs_factor, so we probabilities sum to one and we can sample a value for X\n",
    "        gibbs_factor = ... # TODO\n",
    "        # Call sample_variable to sample a value for X according to the distribution in gibbs_factor\n",
    "        self.state[X] = gibbs_factor.sample_variable(X)\n",
    "\n",
    "        return self.state\n",
    "\n",
    "    \n",
    "##################\n",
    "# Test code\n",
    "random.seed(6)\n",
    "# create a random query\n",
    "beta = random_assignment(outcomeSpace, 3)\n",
    "# initialize sampler\n",
    "sampler = GibbsSampler(ICU_Net, beta)\n",
    "print(sampler.state)\n",
    "sampler.gibbs_transition()\n",
    "print(sampler.state)"
   ]
  },
  {
   "cell_type": "code",
   "execution_count": 45,
   "metadata": {},
   "outputs": [
    {
     "name": "stdout",
     "output_type": "stream",
     "text": [
      "{'H': 0, 'A': 1, 'V': 1, 'S': 1, 'T': 0, 'B': 1, 'L': 1, 'O': 0, 'C': 0}\n",
      "{'H': 0, 'A': 1, 'V': 1, 'S': 0, 'T': 0, 'B': 1, 'L': 1, 'O': 0, 'C': 0}\n"
     ]
    }
   ],
   "source": [
    "# Answer\n",
    "\n",
    "class GibbsSampler():\n",
    "    def __init__(self, bayesNet, beta):\n",
    "        self.bayesNet = bayesNet\n",
    "        self.beta = beta\n",
    "        self.gibbs_graph = bayesNet.create_gibbs_graph()\n",
    "        self.outcomeSpace = list(bayesNet.factors.values())[0].outcomeSpace\n",
    "\n",
    "        # initialise state\n",
    "        self.state = bayesNet.complete_assignment(beta)\n",
    "        self.state.update(beta)\n",
    "\n",
    "\n",
    "    def gibbs_transition(self):\n",
    "        # These are the non-evidence variables in the network. We will sample from this list\n",
    "        not_ev_vars = [v for v in self.outcomeSpace.keys() if v not in self.beta.keys()]\n",
    "        # Randomly sample one variable with uniform distribution\n",
    "        X = random.choice(not_ev_vars)\n",
    "        # Create an empty factor that we will use to store our inference results\n",
    "        gibbs_factor = Factor((X,), self.outcomeSpace)\n",
    "        for value in self.outcomeSpace[X]:\n",
    "            # Let's use the Gibbs graph to see which factors we need to multiply\n",
    "            for var in self.gibbs_graph.children(X):\n",
    "                # IMPORTANT: instead of call join and multiply all factors, we will only multiply the entries compatible with evidence\n",
    "                # Remember we are working with complete assignments. See the lecture about classification with graphical models for details\n",
    "                \n",
    "                # Assign a value to variable X in the state\n",
    "                self.state[X] = value\n",
    "                # Compute the entry to retrieve the probability \n",
    "                entry = tuple(self.state[v] for v in self.bayesNet.factors[var].domain)\n",
    "                # Multiply the probabilities in the relevant factors\n",
    "                gibbs_factor[value] *= self.bayesNet.factors[var][entry]\n",
    "        # Renormalize the gibbs_factor, so we probabilities sum to one and we can sample a value for X\n",
    "        gibbs_factor = gibbs_factor.normalize()\n",
    "        # Call sample_variable to sample a value for X according to the distribution in gibbs_factor\n",
    "        self.state[X] = gibbs_factor.sample_variable(X)\n",
    "\n",
    "        return self.state\n",
    "\n",
    "    \n",
    "##################\n",
    "# Test code\n",
    "random.seed(6)\n",
    "# create a random query\n",
    "beta = random_assignment(outcomeSpace, 3)\n",
    "# initialize sampler\n",
    "sampler = GibbsSampler(ICU_Net, beta)\n",
    "print(sampler.state)\n",
    "sampler.gibbs_transition()\n",
    "print(sampler.state)"
   ]
  },
  {
   "cell_type": "markdown",
   "metadata": {},
   "source": [
    "If your response is correct, you should see the following output:\n",
    "\n",
    "```\n",
    "{'H': 0, 'A': 1, 'V': 1, 'S': 1, 'T': 0, 'B': 1, 'L': 1, 'O': 0, 'C': 0}\n",
    "{'H': 0, 'A': 1, 'V': 1, 'S': 0, 'T': 0, 'B': 1, 'L': 1, 'O': 0, 'C': 0}\n",
    "```\n",
    "\n",
    "## Exercise\n",
    "\n",
    "Let's replace our current initialisation method with a slightly different way to initialise the chains. We can use the `simulate_likelihood` function to generate a sample that conforms with the evidence. \n"
   ]
  },
  {
   "cell_type": "code",
   "execution_count": 46,
   "metadata": {},
   "outputs": [
    {
     "ename": "TypeError",
     "evalue": "cannot unpack non-iterable ellipsis object",
     "output_type": "error",
     "traceback": [
      "\u001b[0;31m---------------------------------------------------------------------------\u001b[0m",
      "\u001b[0;31mTypeError\u001b[0m                                 Traceback (most recent call last)",
      "\u001b[0;32m<ipython-input-46-ea63582b2401>\u001b[0m in \u001b[0;36m<module>\u001b[0;34m\u001b[0m\n\u001b[1;32m     19\u001b[0m \u001b[0mbeta\u001b[0m \u001b[0;34m=\u001b[0m \u001b[0mrandom_assignment\u001b[0m\u001b[0;34m(\u001b[0m\u001b[0moutcomeSpace\u001b[0m\u001b[0;34m,\u001b[0m \u001b[0;36m3\u001b[0m\u001b[0;34m)\u001b[0m\u001b[0;34m\u001b[0m\u001b[0;34m\u001b[0m\u001b[0m\n\u001b[1;32m     20\u001b[0m \u001b[0;32mfor\u001b[0m \u001b[0mi\u001b[0m \u001b[0;32min\u001b[0m \u001b[0mrange\u001b[0m\u001b[0;34m(\u001b[0m\u001b[0;36m5\u001b[0m\u001b[0;34m)\u001b[0m\u001b[0;34m:\u001b[0m\u001b[0;34m\u001b[0m\u001b[0;34m\u001b[0m\u001b[0m\n\u001b[0;32m---> 21\u001b[0;31m     \u001b[0msampler\u001b[0m \u001b[0;34m=\u001b[0m \u001b[0mGibbsSampler\u001b[0m\u001b[0;34m(\u001b[0m\u001b[0mICU_Net\u001b[0m\u001b[0;34m,\u001b[0m \u001b[0mbeta\u001b[0m\u001b[0;34m)\u001b[0m\u001b[0;34m\u001b[0m\u001b[0;34m\u001b[0m\u001b[0m\n\u001b[0m\u001b[1;32m     22\u001b[0m     \u001b[0mprint\u001b[0m\u001b[0;34m(\u001b[0m\u001b[0msampler\u001b[0m\u001b[0;34m.\u001b[0m\u001b[0mstate\u001b[0m\u001b[0;34m)\u001b[0m\u001b[0;34m\u001b[0m\u001b[0;34m\u001b[0m\u001b[0m\n",
      "\u001b[0;32m<ipython-input-46-ea63582b2401>\u001b[0m in \u001b[0;36m__init__\u001b[0;34m(self, bayesNet, beta)\u001b[0m\n\u001b[1;32m     10\u001b[0m         \u001b[0;31m# Let's discard assigments with zero weights. They may be invalid states if we have deterministic CPTs\u001b[0m\u001b[0;34m\u001b[0m\u001b[0;34m\u001b[0m\u001b[0;34m\u001b[0m\u001b[0m\n\u001b[1;32m     11\u001b[0m         \u001b[0;32mwhile\u001b[0m\u001b[0;34m(\u001b[0m\u001b[0mw\u001b[0m\u001b[0;34m==\u001b[0m\u001b[0;36m0\u001b[0m\u001b[0;34m)\u001b[0m\u001b[0;34m:\u001b[0m\u001b[0;34m\u001b[0m\u001b[0;34m\u001b[0m\u001b[0m\n\u001b[0;32m---> 12\u001b[0;31m             \u001b[0mself\u001b[0m\u001b[0;34m.\u001b[0m\u001b[0mstate\u001b[0m\u001b[0;34m,\u001b[0m \u001b[0mw\u001b[0m \u001b[0;34m=\u001b[0m \u001b[0;34m...\u001b[0m \u001b[0;31m# TODO\u001b[0m\u001b[0;34m\u001b[0m\u001b[0;34m\u001b[0m\u001b[0m\n\u001b[0m\u001b[1;32m     13\u001b[0m \u001b[0;34m\u001b[0m\u001b[0m\n\u001b[1;32m     14\u001b[0m \u001b[0;34m\u001b[0m\u001b[0m\n",
      "\u001b[0;31mTypeError\u001b[0m: cannot unpack non-iterable ellipsis object"
     ]
    }
   ],
   "source": [
    "class GibbsSampler(GibbsSampler):\n",
    "    def __init__(self, bayesNet, beta):\n",
    "        self.bayesNet = bayesNet\n",
    "        self.beta = beta\n",
    "        self.gibbs_graph = bayesNet.create_gibbs_graph()\n",
    "        self.outcomeSpace = list(bayesNet.factors.values())[0].outcomeSpace\n",
    "\n",
    "        # Call simulate_likelihood to create initial assignment that agrees with beta\n",
    "        w = 0\n",
    "        # Let's discard assigments with zero weights. They may be invalid states if we have deterministic CPTs\n",
    "        while(w==0):\n",
    "            self.state, w = ... # TODO\n",
    "\n",
    "        \n",
    "################\n",
    "# Test code\n",
    "\n",
    "random.seed(0)\n",
    "beta = random_assignment(outcomeSpace, 3)\n",
    "for i in range(5):\n",
    "    sampler = GibbsSampler(ICU_Net, beta)\n",
    "    print(sampler.state)"
   ]
  },
  {
   "cell_type": "code",
   "execution_count": 47,
   "metadata": {},
   "outputs": [
    {
     "name": "stdout",
     "output_type": "stream",
     "text": [
      "{'A': 0, 'T': 1, 'H': 1, 'L': 0, 'V': 0, 'C': 1, 'S': 1, 'O': 1, 'B': 1}\n",
      "{'A': 0, 'T': 1, 'H': 1, 'L': 0, 'V': 0, 'C': 1, 'S': 1, 'O': 2, 'B': 2}\n",
      "{'A': 0, 'T': 1, 'H': 1, 'L': 0, 'V': 0, 'C': 1, 'S': 1, 'O': 1, 'B': 1}\n",
      "{'A': 0, 'T': 1, 'H': 1, 'L': 0, 'V': 0, 'C': 1, 'S': 0, 'O': 0, 'B': 0}\n",
      "{'A': 0, 'T': 1, 'H': 1, 'L': 0, 'V': 0, 'C': 1, 'S': 0, 'O': 0, 'B': 1}\n"
     ]
    }
   ],
   "source": [
    "# Answer\n",
    "class GibbsSampler(GibbsSampler):\n",
    "    def __init__(self, bayesNet, beta):\n",
    "        self.bayesNet = bayesNet\n",
    "        self.beta = beta\n",
    "        self.gibbs_graph = bayesNet.create_gibbs_graph()\n",
    "        self.outcomeSpace = list(bayesNet.factors.values())[0].outcomeSpace\n",
    "\n",
    "        # Call simulate_likelihood to create initial assignment that agrees with beta\n",
    "        w = 0\n",
    "        # Let's discard assigments with zero weights. They may be invalid states if we have deterministic CPTs\n",
    "        while(w==0):\n",
    "            self.state, w = self.bayesNet.simulate_likelihood(beta)\n",
    "\n",
    "        \n",
    "################\n",
    "# Test code\n",
    "\n",
    "random.seed(0)\n",
    "beta = random_assignment(outcomeSpace, 3)\n",
    "for i in range(5):\n",
    "    sampler = GibbsSampler(ICU_Net, beta)\n",
    "    print(sampler.state)"
   ]
  },
  {
   "cell_type": "markdown",
   "metadata": {},
   "source": [
    "If your code is correct, you should see the following output:\n",
    "\n",
    "```\n",
    "[{'A': 0, 'T': 1, 'H': 1, 'L': 0, 'V': 0, 'C': 1, 'S': 1, 'O': 1, 'B': 1},\n",
    " {'A': 0, 'T': 1, 'H': 1, 'L': 0, 'V': 0, 'C': 1, 'S': 1, 'O': 2, 'B': 2},\n",
    " {'A': 0, 'T': 1, 'H': 1, 'L': 0, 'V': 0, 'C': 1, 'S': 1, 'O': 1, 'B': 1},\n",
    " {'A': 0, 'T': 1, 'H': 1, 'L': 0, 'V': 0, 'C': 1, 'S': 0, 'O': 0, 'B': 0},\n",
    " {'A': 0, 'T': 1, 'H': 1, 'L': 0, 'V': 0, 'C': 1, 'S': 0, 'O': 0, 'B': 1}]\n",
    "```\n",
    "\n",
    "Finally, we implement the function `gibbs_sampling`. This function has two unique arguments. The first, `n_burnin`, is the number of transitions we apply to the chain before we start sampling. This period is known as burn-in. The second, `n_steps`, is the number of transitions we apply to the chain between two consecutive samples. `n_steps` help us to obtain samples that are less correlated between each other.\n",
    "\n",
    "## Exercise\n",
    "\n",
    "Let's implement `gibbs_sampling`. We prepared a stub for you. You need to fill in the gaps."
   ]
  },
  {
   "cell_type": "code",
   "execution_count": 48,
   "metadata": {},
   "outputs": [
    {
     "ename": "TypeError",
     "evalue": "'ellipsis' object is not subscriptable",
     "output_type": "error",
     "traceback": [
      "\u001b[0;31m---------------------------------------------------------------------------\u001b[0m",
      "\u001b[0;31mTypeError\u001b[0m                                 Traceback (most recent call last)",
      "\u001b[0;32m<ipython-input-48-5fc08fc46211>\u001b[0m in \u001b[0;36m<module>\u001b[0;34m\u001b[0m\n\u001b[1;32m     38\u001b[0m \u001b[0;31m# Test code\u001b[0m\u001b[0;34m\u001b[0m\u001b[0;34m\u001b[0m\u001b[0;34m\u001b[0m\u001b[0m\n\u001b[1;32m     39\u001b[0m \u001b[0mrandom\u001b[0m\u001b[0;34m.\u001b[0m\u001b[0mseed\u001b[0m\u001b[0;34m(\u001b[0m\u001b[0;36m0\u001b[0m\u001b[0;34m)\u001b[0m\u001b[0;34m\u001b[0m\u001b[0;34m\u001b[0m\u001b[0m\n\u001b[0;32m---> 40\u001b[0;31m \u001b[0mp\u001b[0m \u001b[0;34m=\u001b[0m \u001b[0mgibbs_sampling\u001b[0m\u001b[0;34m(\u001b[0m\u001b[0mICU_Net\u001b[0m\u001b[0;34m,\u001b[0m \u001b[0;34m{\u001b[0m\u001b[0;34m'T'\u001b[0m\u001b[0;34m:\u001b[0m\u001b[0;36m0\u001b[0m\u001b[0;34m}\u001b[0m\u001b[0;34m,\u001b[0m \u001b[0;34m{\u001b[0m\u001b[0;34m'A'\u001b[0m\u001b[0;34m:\u001b[0m\u001b[0;36m0\u001b[0m\u001b[0;34m}\u001b[0m\u001b[0;34m,\u001b[0m \u001b[0;36m10\u001b[0m\u001b[0;34m,\u001b[0m \u001b[0;36m1000\u001b[0m\u001b[0;34m,\u001b[0m \u001b[0mn_burnin\u001b[0m\u001b[0;34m=\u001b[0m\u001b[0;36m1000\u001b[0m\u001b[0;34m,\u001b[0m\u001b[0mn_steps\u001b[0m\u001b[0;34m=\u001b[0m\u001b[0;36m1\u001b[0m\u001b[0;34m)\u001b[0m\u001b[0;34m\u001b[0m\u001b[0;34m\u001b[0m\u001b[0m\n\u001b[0m\u001b[1;32m     41\u001b[0m \u001b[0mprint\u001b[0m\u001b[0;34m(\u001b[0m\u001b[0;34m\"P(T=0|A=0)=\"\u001b[0m\u001b[0;34m,\u001b[0m \u001b[0mp\u001b[0m\u001b[0;34m)\u001b[0m\u001b[0;34m\u001b[0m\u001b[0;34m\u001b[0m\u001b[0m\n",
      "\u001b[0;32m<ipython-input-48-5fc08fc46211>\u001b[0m in \u001b[0;36mgibbs_sampling\u001b[0;34m(bayesNet, alpha, beta, n_chains, n_samples, n_burnin, n_steps)\u001b[0m\n\u001b[1;32m     31\u001b[0m                 \u001b[0mstate\u001b[0m \u001b[0;34m=\u001b[0m \u001b[0;34m...\u001b[0m \u001b[0;31m# TODO\u001b[0m\u001b[0;34m\u001b[0m\u001b[0;34m\u001b[0m\u001b[0m\n\u001b[1;32m     32\u001b[0m             \u001b[0;31m# Check if the new samples matches alpha\u001b[0m\u001b[0;34m\u001b[0m\u001b[0;34m\u001b[0m\u001b[0;34m\u001b[0m\u001b[0m\n\u001b[0;32m---> 33\u001b[0;31m             \u001b[0;32mif\u001b[0m \u001b[0;34m(\u001b[0m\u001b[0mall\u001b[0m\u001b[0;34m(\u001b[0m\u001b[0mv\u001b[0m \u001b[0;34m==\u001b[0m \u001b[0mstate\u001b[0m\u001b[0;34m[\u001b[0m\u001b[0mk\u001b[0m\u001b[0;34m]\u001b[0m \u001b[0;32mfor\u001b[0m \u001b[0mk\u001b[0m\u001b[0;34m,\u001b[0m \u001b[0mv\u001b[0m \u001b[0;32min\u001b[0m \u001b[0malpha\u001b[0m\u001b[0;34m.\u001b[0m\u001b[0mitems\u001b[0m\u001b[0;34m(\u001b[0m\u001b[0;34m)\u001b[0m\u001b[0;34m)\u001b[0m\u001b[0;34m)\u001b[0m\u001b[0;34m:\u001b[0m\u001b[0;34m\u001b[0m\u001b[0;34m\u001b[0m\u001b[0m\n\u001b[0m\u001b[1;32m     34\u001b[0m                 \u001b[0mp\u001b[0m \u001b[0;34m+=\u001b[0m \u001b[0;36m1\u001b[0m\u001b[0;34m\u001b[0m\u001b[0;34m\u001b[0m\u001b[0m\n\u001b[1;32m     35\u001b[0m     \u001b[0;32mreturn\u001b[0m \u001b[0mp\u001b[0m\u001b[0;34m/\u001b[0m\u001b[0;34m(\u001b[0m\u001b[0mn_samples\u001b[0m\u001b[0;34m*\u001b[0m\u001b[0mn_chains\u001b[0m\u001b[0;34m)\u001b[0m\u001b[0;34m\u001b[0m\u001b[0;34m\u001b[0m\u001b[0m\n",
      "\u001b[0;32m<ipython-input-48-5fc08fc46211>\u001b[0m in \u001b[0;36m<genexpr>\u001b[0;34m(.0)\u001b[0m\n\u001b[1;32m     31\u001b[0m                 \u001b[0mstate\u001b[0m \u001b[0;34m=\u001b[0m \u001b[0;34m...\u001b[0m \u001b[0;31m# TODO\u001b[0m\u001b[0;34m\u001b[0m\u001b[0;34m\u001b[0m\u001b[0m\n\u001b[1;32m     32\u001b[0m             \u001b[0;31m# Check if the new samples matches alpha\u001b[0m\u001b[0;34m\u001b[0m\u001b[0;34m\u001b[0m\u001b[0;34m\u001b[0m\u001b[0m\n\u001b[0;32m---> 33\u001b[0;31m             \u001b[0;32mif\u001b[0m \u001b[0;34m(\u001b[0m\u001b[0mall\u001b[0m\u001b[0;34m(\u001b[0m\u001b[0mv\u001b[0m \u001b[0;34m==\u001b[0m \u001b[0mstate\u001b[0m\u001b[0;34m[\u001b[0m\u001b[0mk\u001b[0m\u001b[0;34m]\u001b[0m \u001b[0;32mfor\u001b[0m \u001b[0mk\u001b[0m\u001b[0;34m,\u001b[0m \u001b[0mv\u001b[0m \u001b[0;32min\u001b[0m \u001b[0malpha\u001b[0m\u001b[0;34m.\u001b[0m\u001b[0mitems\u001b[0m\u001b[0;34m(\u001b[0m\u001b[0;34m)\u001b[0m\u001b[0;34m)\u001b[0m\u001b[0;34m)\u001b[0m\u001b[0;34m:\u001b[0m\u001b[0;34m\u001b[0m\u001b[0;34m\u001b[0m\u001b[0m\n\u001b[0m\u001b[1;32m     34\u001b[0m                 \u001b[0mp\u001b[0m \u001b[0;34m+=\u001b[0m \u001b[0;36m1\u001b[0m\u001b[0;34m\u001b[0m\u001b[0;34m\u001b[0m\u001b[0m\n\u001b[1;32m     35\u001b[0m     \u001b[0;32mreturn\u001b[0m \u001b[0mp\u001b[0m\u001b[0;34m/\u001b[0m\u001b[0;34m(\u001b[0m\u001b[0mn_samples\u001b[0m\u001b[0;34m*\u001b[0m\u001b[0mn_chains\u001b[0m\u001b[0;34m)\u001b[0m\u001b[0;34m\u001b[0m\u001b[0;34m\u001b[0m\u001b[0m\n",
      "\u001b[0;31mTypeError\u001b[0m: 'ellipsis' object is not subscriptable"
     ]
    }
   ],
   "source": [
    "def gibbs_sampling(bayesNet, alpha, beta, n_chains, n_samples, n_burnin=1000, n_steps=1):\n",
    "    \"\"\"\n",
    "    argument\n",
    "    `alpha`:  a dictionary that represents an assignment for all network variables\n",
    "    `beta`:  a dictionary that represents an assignment for all evidence variables\n",
    "    `n_samples`: number of samples to draw from each chain\n",
    "    `n_burnin`: number of burn-in steps\n",
    "    `n_steps`: number of steps (transitions) between two consecutive samples\n",
    "    return: an estimate of P(alpha|beta) according Gibbs sampling\n",
    "    \"\"\"\n",
    "    # initialise sampling chains\n",
    "    chains = [None]*n_chains\n",
    "    for i in range(n_chains):\n",
    "        chains[i] = ... # TODO initialise chains\n",
    "\n",
    "    ########### Start of the Burn-in phase ###########\n",
    "    for i in range(n_burnin):\n",
    "        for chain in chains:\n",
    "            # Call gibbs_transition chain\n",
    "            ... # TODO\n",
    "    ############ End of the Burn-in phase ############\n",
    "\n",
    "    # Number of samples that match the alpha and beta assignments\n",
    "    p = 0\n",
    "\n",
    "    # Now we are going to start sampling\n",
    "    for i in range(n_samples):\n",
    "        for chain in chains:\n",
    "            for s in range(n_steps):\n",
    "                # Call gibbs_transition\n",
    "                state = ... # TODO\n",
    "            # Check if the new samples matches alpha\n",
    "            if (all(v == state[k] for k, v in alpha.items())):\n",
    "                p += 1\n",
    "    return p/(n_samples*n_chains)\n",
    "                \n",
    "#######################\n",
    "# Test code\n",
    "random.seed(0)\n",
    "p = gibbs_sampling(ICU_Net, {'T':0}, {'A':0}, 10, 1000, n_burnin=1000,n_steps=1)\n",
    "print(\"P(T=0|A=0)=\", p)"
   ]
  },
  {
   "cell_type": "code",
   "execution_count": 49,
   "metadata": {},
   "outputs": [
    {
     "name": "stdout",
     "output_type": "stream",
     "text": [
      "P(T=0|A=0)= 0.3411\n"
     ]
    }
   ],
   "source": [
    "# Answer\n",
    "def gibbs_sampling(bayesNet, alpha, beta, n_chains, n_samples, n_burnin=1000, n_steps=1):\n",
    "    \"\"\"\n",
    "    argument\n",
    "    `alpha`:  a dictionary that represents an assignment for all network variables\n",
    "    `beta`:  a dictionary that represents an assignment for all evidence variables\n",
    "    `n_samples`: number of samples to draw from each chain\n",
    "    `n_burnin`: number of burn-in steps\n",
    "    `n_steps`: number of steps (transitions) between two consecutive samples\n",
    "    return: an estimate of P(alpha|beta) according Gibbs sampling\n",
    "    \"\"\"\n",
    "    # initialise sampling chains\n",
    "    chains = [None]*n_chains\n",
    "    for i in range(n_chains):\n",
    "        chains[i] = GibbsSampler(bayesNet, beta)\n",
    "\n",
    "    ########### Start of the Burn-in phase ###########\n",
    "    for i in range(n_burnin):\n",
    "        for chain in chains:\n",
    "            # Call gibbs_transition chain\n",
    "            chain.gibbs_transition()\n",
    "    ############ End of the Burn-in phase ############\n",
    "\n",
    "    # Number of samples that match the alpha and beta assignments\n",
    "    p = 0\n",
    "\n",
    "    # Now we are going to start sampling\n",
    "    for i in range(n_samples):\n",
    "        for chain in chains:\n",
    "            for s in range(n_steps):\n",
    "                # Call gibbs_transition\n",
    "                state = chain.gibbs_transition()\n",
    "            # Check if the new samples matches alpha\n",
    "            if (all(v == state[k] for k, v in alpha.items())):\n",
    "                p += 1\n",
    "    return p/(n_samples*n_chains)\n",
    "                \n",
    "#######################\n",
    "# Test code\n",
    "random.seed(0)\n",
    "p = gibbs_sampling(ICU_Net, {'T':0}, {'A':0}, 10, 1000, n_burnin=1000,n_steps=1)\n",
    "print(\"P(T=0|A=0)=\", p)"
   ]
  },
  {
   "cell_type": "markdown",
   "metadata": {},
   "source": [
    "If your code is correct, you should see the following output:\n",
    "\n",
    "```\n",
    "P(A=0|T=0)= 0.3411\n",
    "```\n",
    "\n",
    "Now, let's compare Gibbs sampling with the remaining sampling methods. To make things a little more comparable, we will use a single chain. Our burn-in period will be 10 samples, and we will sample every 10 chain transitions.\n",
    "\n",
    "The next cell should take a few minutes to complete."
   ]
  },
  {
   "cell_type": "code",
   "execution_count": 50,
   "metadata": {},
   "outputs": [
    {
     "data": {
      "image/png": "[encoded data removed]",
      "text/plain": [
       "<Figure size 1080x360 with 3 Axes>"
      ]
     },
     "metadata": {
      "needs_background": "light"
     },
     "output_type": "display_data"
    }
   ],
   "source": [
    "random.seed(0)\n",
    "ICU_Net = BayesNet(ICU_Net.graph, ICU_Net.outcomeSpace, ICU_Net.factors)\n",
    "queries = query_generator_posterior_marginal(300, ICU_Net)\n",
    "x = [q['prob'] for q in queries]\n",
    "y = [gibbs_sampling(ICU_Net, q['query'], q['evidence'], 1, 100, 10, 10) for q in queries]\n",
    "plt.figure(figsize=(15, 5))\n",
    "plt.subplot(1,3,1)\n",
    "plt.scatter(x, y)\n",
    "plt.title(\"100 samples\")\n",
    "plt.xlabel(\"True probabilities\")\n",
    "plt.ylabel(\"Gibbs sampling\")\n",
    "y = [gibbs_sampling(ICU_Net, q['query'], q['evidence'], 1, 500, 10, 10) for q in queries]\n",
    "plt.subplot(1,3,2)\n",
    "plt.scatter(x, y)\n",
    "plt.title(\"500 samples\")    \n",
    "plt.xlabel(\"True probabilities\")\n",
    "plt.ylabel(\"Gibbs sampling\")\n",
    "y = [gibbs_sampling(ICU_Net, q['query'], q['evidence'], 1, 1000, 10, 10) for q in queries]\n",
    "plt.subplot(1,3,3)\n",
    "plt.scatter(x, y)\n",
    "plt.title(\"1000 samples\")    \n",
    "plt.xlabel(\"True probabilities\")\n",
    "plt.ylabel(\"Gibbs sampling\")    \n",
    "plt.show()"
   ]
  },
  {
   "cell_type": "markdown",
   "metadata": {},
   "source": [
    "Great. It seems that Gibbs sampling can provide competitive results if compared to likelihood sampling. However, Gibbs sampling is significatively more demanding. \n",
    "\n",
    "We have worked with a simple network. In more complex ones, likelihood sampling may have issues and end up generating samples with small weights. In this case, Gibbs sampling may perform better.\n",
    "\n",
    "That is all for today. We have reached the end of week 10. It was good to have you with us!"
   ]
  },
  {
   "cell_type": "markdown",
   "metadata": {},
   "source": [
    " \n",
    "  \n",
    "  \n",
    "  \n",
    "  \n",
    "  \n",
    "  \n",
    "  "
   ]
  },
  {
   "cell_type": "markdown",
   "metadata": {},
   "source": [
    " "
   ]
  },
  {
   "cell_type": "markdown",
   "metadata": {},
   "source": [
    " "
   ]
  },
  {
   "cell_type": "markdown",
   "metadata": {},
   "source": [
    " "
   ]
  },
  {
   "cell_type": "markdown",
   "metadata": {},
   "source": [
    " "
   ]
  },
  {
   "cell_type": "markdown",
   "metadata": {},
   "source": [
    " "
   ]
  },
  {
   "cell_type": "markdown",
   "metadata": {},
   "source": [
    " "
   ]
  },
  {
   "cell_type": "markdown",
   "metadata": {},
   "source": [
    " "
   ]
  },
  {
   "cell_type": "markdown",
   "metadata": {},
   "source": [
    "## Challenge exercise: Vectorized likelihood sampling (optional)\n",
    "\n",
    "It's possible to make likelihood weighting queries much faster, by vectorising all calculations with numpy. This works by iterating over each variable, and generating all the randomly sampled outcomes for that variable. "
   ]
  },
  {
   "cell_type": "code",
   "execution_count": 51,
   "metadata": {},
   "outputs": [
    {
     "name": "stdout",
     "output_type": "stream",
     "text": [
      "P(T=0|A=0)= 0.0 computed with weight 990.0000000000001\n"
     ]
    }
   ],
   "source": [
    "class BayesNet(BayesNet):\n",
    "    def fast_likelihood_weighting(self, n_samples, alpha, beta):\n",
    "        '''\n",
    "        vectorised likelihood weighting sampler\n",
    "        '''\n",
    "        # Call topologicalSort to compute the order we will traverse the network\n",
    "        order = self.graph.topological_sort()\n",
    "        # init vector of weights (ones)\n",
    "        weights = np.ones((n_samples,))\n",
    "        # init samples dict of arrays \n",
    "        samples = {}\n",
    "        for var in order:\n",
    "            f = self.factors[var]\n",
    "            if var not in beta:\n",
    "                # Sample a vector of outcomes (length n_samples)\n",
    "                ... # TODO >8 lines of numpy hacks\n",
    "                samples[var] = ... # TODO output should be a vector of outcome indicies sampled from this variable (conditional on parents)\n",
    "            else:\n",
    "                # set the outcome of this var to whatever it says in `beta`\n",
    "                outcomeIndex = f.outcomeSpace[var].index(beta[var])\n",
    "                samples[var] = outcomeIndex*np.ones((n_samples,), dtype=np.int)\n",
    "                # what does this var depend on?\n",
    "                # select those columns of the output vectors \n",
    "                indicies = tuple(samples[v] for v in f.domain)\n",
    "                # use those columns to index into the vector\n",
    "                probs_vector = f.table[indicies]\n",
    "                # multiply this vector with the weights vector\n",
    "                weights *= probs_vector\n",
    "\n",
    "        # now select rows that match alpha\n",
    "        matchesAlpha = np.ones(n_samples, dtype=np.bool_)\n",
    "        for var, outcome in alpha.items():\n",
    "            matchesAlpha &= (samples[var] == outcome)\n",
    "        # sum up the weights of those rows\n",
    "        alphaWeightSum = np.sum(weights*matchesAlpha)\n",
    "        # divide by sum of all weights\n",
    "        totalSum = np.sum(weights)\n",
    "        return alphaWeightSum/totalSum, totalSum\n",
    "\n",
    "#####################\n",
    "# Test code\n",
    "\n",
    "np.random.seed(0)\n",
    "ICU_Net = BayesNet(ICU_Net.graph, ICU_Net.outcomeSpace, ICU_Net.factors)\n",
    "\n",
    "p,w = ICU_Net.fast_likelihood_weighting(1000, {'T':0}, {'A':0})\n",
    "print(\"P(T=0|A=0)=\", p, \"computed with weight\", w)\n",
    "        "
   ]
  },
  {
   "cell_type": "code",
   "execution_count": 52,
   "metadata": {},
   "outputs": [
    {
     "name": "stdout",
     "output_type": "stream",
     "text": [
      "P(T=0|A=0)= 0.30699999999999994 computed with weight 990.0000000000001\n"
     ]
    }
   ],
   "source": [
    "# Answer\n",
    "\n",
    "class BayesNet(BayesNet):\n",
    "    def fast_likelihood_weighting(self, n_samples, alpha, beta):\n",
    "        '''\n",
    "        vectorised likelihood weighting sampler\n",
    "        '''\n",
    "        # Call topologicalSort to compute the order we will traverse the network\n",
    "        order = self.graph.topological_sort()\n",
    "        # init vector of weights (ones)\n",
    "        weights = np.ones((n_samples,))\n",
    "        # init samples dict of arrays \n",
    "        samples = {}\n",
    "        for var in order:\n",
    "            f = self.factors[var]\n",
    "            if var not in beta:\n",
    "                # create probability matrix\n",
    "                indicies = tuple(slice(None) if v==var else samples[v] for v in f.domain)\n",
    "                # handle single var edge case\n",
    "                if len(f.domain) == 1:\n",
    "                    probs_matrix = f.table[:, np.newaxis]\n",
    "                else:\n",
    "                    probs_matrix = f.table[indicies]\n",
    "\n",
    "                # make sure probs_matrix is of shape [n_samples, len(outcomeSpace[var])]\n",
    "                if var == f.domain[0]:\n",
    "                    probs_matrix = probs_matrix.T\n",
    "                # sample vars using this method (https://stackoverflow.com/questions/47722005/vectorizing-numpy-random-choice-for-given-2d-array-of-probabilities-along-an-a)\n",
    "                bools = np.cumsum(probs_matrix, axis=1) > np.random.rand(n_samples)[:,np.newaxis]\n",
    "                samples[var] = np.argmax(bools, axis=1)\n",
    "            else:\n",
    "                # set the outcome of this var to whatever it says in `beta`\n",
    "                outcomeIndex = f.outcomeSpace[var].index(beta[var])\n",
    "                samples[var] = outcomeIndex*np.ones((n_samples,), dtype=np.int)\n",
    "                # what does this var depend on?\n",
    "                # select those columns of the output vectors \n",
    "                indicies = tuple(samples[v] for v in f.domain)\n",
    "                # use those columns to index into the vector\n",
    "                probs_vector = f.table[indicies]\n",
    "                # multiply this vector with the weights vector\n",
    "                weights *= probs_vector\n",
    "\n",
    "        # now select rows that match alpha\n",
    "        matchesAlpha = np.ones(n_samples, dtype=np.bool_)\n",
    "        for var, outcome in alpha.items():\n",
    "            matchesAlpha &= (samples[var] == outcome)\n",
    "        # sum up the weights of those rows\n",
    "        alphaWeightSum = np.sum(weights*matchesAlpha)\n",
    "        # divide by sum of all weights\n",
    "        totalSum = np.sum(weights)\n",
    "        return alphaWeightSum/totalSum, totalSum\n",
    "\n",
    "#####################\n",
    "# Test code\n",
    "\n",
    "np.random.seed(0)\n",
    "ICU_Net = BayesNet(ICU_Net.graph, ICU_Net.outcomeSpace, ICU_Net.factors)\n",
    "\n",
    "p,w = ICU_Net.fast_likelihood_weighting(1000, {'T':0}, {'A':0})\n",
    "print(\"P(T=0|A=0)=\", p, \"computed with weight\", w)\n",
    "        "
   ]
  },
  {
   "cell_type": "code",
   "execution_count": 53,
   "metadata": {},
   "outputs": [
    {
     "data": {
      "image/png": "[encoded data removed]",
      "text/plain": [
       "<Figure size 1080x360 with 3 Axes>"
      ]
     },
     "metadata": {
      "needs_background": "light"
     },
     "output_type": "display_data"
    }
   ],
   "source": [
    "random.seed(0)\n",
    "queries = query_generator_posterior_marginal(300, ICU_Net)\n",
    "x = [q['prob'] for q in queries]\n",
    "y = [ICU_Net.fast_likelihood_weighting(1000, q['query'], q['evidence'])[0] for q in queries]\n",
    "plt.figure(figsize=(15, 5))\n",
    "plt.subplot(1,3,1)\n",
    "plt.scatter(x, y)\n",
    "plt.title(\"1000 samples\")\n",
    "plt.xlabel(\"True probabilities\")\n",
    "plt.ylabel(\"Likelihood weighting\")\n",
    "y = [ICU_Net.fast_likelihood_weighting(5000, q['query'], q['evidence'])[0] for q in queries]\n",
    "plt.subplot(1,3,2)\n",
    "plt.scatter(x, y)\n",
    "plt.title(\"5000 samples\")    \n",
    "plt.xlabel(\"True probabilities\")\n",
    "plt.ylabel(\"Likelihood weighting\")\n",
    "y = [ICU_Net.fast_likelihood_weighting(10000, q['query'], q['evidence'])[0] for q in queries]\n",
    "plt.subplot(1,3,3)\n",
    "plt.scatter(x, y)\n",
    "plt.title(\"10000 samples\")    \n",
    "plt.xlabel(\"True probabilities\")\n",
    "plt.ylabel(\"Likelihood weighting\")    \n",
    "plt.show()"
   ]
  },
  {
   "cell_type": "code",
   "execution_count": null,
   "metadata": {},
   "outputs": [],
   "source": []
  }
 ],
 "metadata": {
  "kernelspec": {
   "display_name": "Python 3",
   "language": "python",
   "name": "python3"
  },
  "language_info": {
   "codemirror_mode": {
    "name": "ipython",
    "version": 3
   },
   "file_extension": ".py",
   "mimetype": "text/x-python",
   "name": "python",
   "nbconvert_exporter": "python",
   "pygments_lexer": "ipython3",
   "version": "3.8.10"
  },
  "toc": {
   "colors": {
    "hover_highlight": "#DAA520",
    "navigate_num": "#000000",
    "navigate_text": "#333333",
    "running_highlight": "#FF0000",
    "selected_highlight": "#FFD700",
    "sidebar_border": "#EEEEEE",
    "wrapper_background": "#FFFFFF"
   },
   "moveMenuLeft": true,
   "nav_menu": {
    "height": "198px",
    "width": "252px"
   },
   "navigate_menu": true,
   "number_sections": true,
   "sideBar": true,
   "threshold": 4,
   "toc_cell": false,
   "toc_position": {
    "height": "783px",
    "left": "0px",
    "right": "1346.87px",
    "top": "108px",
    "width": "212px"
   },
   "toc_section_display": "block",
   "toc_window_display": true,
   "widenNotebook": false
  }
 },
 "nbformat": 4,
 "nbformat_minor": 2
}
